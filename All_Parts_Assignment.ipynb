{
 "cells": [
  {
   "cell_type": "markdown",
   "id": "0a115959",
   "metadata": {},
   "source": [
    "# Predictive Analysis of IT Incident Ticket Resolution Times\n",
    "\n",
    "In this notebook I’m trying to predict whether a new IT incident ticket will get resolved **Fast, Moderate or Slow**.  \n",
    "The whole idea is simple – if I can know this early at ticket creation, then teams can plan better, escalate faster, and avoid SLA breaches.  \n",
    "\n",
    "I’m using the UCI “Incident Management Process Enriched Event Log” dataset (~141k rows) that I enriched earlier with categories, domains and realistic descriptions.  \n",
    "The steps here are: clean the data → explore patterns → build models → check results → finally see what can actually be done in real life with the outcomes."
   ]
  },
  {
   "cell_type": "code",
   "execution_count": null,
   "id": "afae0bf9",
   "metadata": {},
   "outputs": [],
   "source": [
    "import pandas as pd\n",
    "import numpy as np\n",
    "import matplotlib.pyplot as plt\n",
    "import seaborn as sns\n",
    "from scipy.stats import skew\n",
    "from scipy.stats import f_oneway\n",
    "import scipy.stats as stats\n",
    "from sklearn.model_selection import train_test_split\n",
    "from sklearn.tree import DecisionTreeClassifier, plot_tree\n",
    "from sklearn.ensemble import RandomForestClassifier\n",
    "from sklearn.metrics import classification_report, confusion_matrix\n",
    "import statsmodels.api as sm\n",
    "from sklearn.ensemble import RandomForestRegressor\n",
    "from sklearn.preprocessing import LabelEncoder\n",
    "from sklearn.linear_model import LinearRegression\n",
    "from sklearn.ensemble import RandomForestRegressor, GradientBoostingRegressor\n",
    "from sklearn.svm import SVR\n",
    "from sklearn.metrics import mean_absolute_error, mean_squared_error, r2_score\n",
    "from sklearn.ensemble import GradientBoostingClassifier\n",
    "from sklearn.linear_model import LogisticRegression\n",
    "import xgboost as xgb\n",
    "from xgboost import XGBRegressor\n",
    "from sklearn.model_selection import RandomizedSearchCV\n",
    "from sklearn.feature_selection import RFE\n"
   ]
  },
  {
   "cell_type": "markdown",
   "id": "c56750dd",
   "metadata": {},
   "source": [
    "### 1. Data Loading & Initial Checks"
   ]
  },
  {
   "cell_type": "markdown",
   "id": "3f7027ff",
   "metadata": {},
   "source": [
    "Here I load the enriched dataset and just check how big it is, what columns are there and if it looks consistent.  \n",
    "This is the first sanity check before I start doing anything serious."
   ]
  },
  {
   "cell_type": "code",
   "execution_count": 2,
   "id": "0e3853a6",
   "metadata": {},
   "outputs": [
    {
     "name": "stdout",
     "output_type": "stream",
     "text": [
      "First 5 rows of the dataset:\n",
      "       number incident_state  active  reassignment_count  reopen_count  \\\n",
      "0  INC0000045            New    True                   0             0   \n",
      "1  INC0000045       Resolved    True                   0             0   \n",
      "2  INC0000045       Resolved    True                   0             0   \n",
      "3  INC0000045         Closed   False                   0             0   \n",
      "4  INC0000047            New    True                   0             0   \n",
      "\n",
      "   sys_mod_count  made_sla    caller_id       opened_by        opened_at  ...  \\\n",
      "0              0      True  Caller 2403    Opened by  8  29-02-2016 1.16  ...   \n",
      "1              2      True  Caller 2403    Opened by  8  29-02-2016 1.16  ...   \n",
      "2              3      True  Caller 2403    Opened by  8  29-02-2016 1.16  ...   \n",
      "3              4      True  Caller 2403    Opened by  8  29-02-2016 1.16  ...   \n",
      "4              0      True  Caller 2403  Opened by  397  29-02-2016 4.40  ...   \n",
      "\n",
      "  vendor caused_by closed_code      resolved_by       resolved_at  \\\n",
      "0      ?         ?      code 5  Resolved by 149  29-02-2016 11.29   \n",
      "1      ?         ?      code 5  Resolved by 149  29-02-2016 11.29   \n",
      "2      ?         ?      code 5  Resolved by 149  29-02-2016 11.29   \n",
      "3      ?         ?      code 5  Resolved by 149  29-02-2016 11.29   \n",
      "4      ?         ?      code 5   Resolved by 81   01-03-2016 9.52   \n",
      "\n",
      "          closed_at      category_name domain_name   subcategory_name  \\\n",
      "0  05-03-2016 12.00  Network Telemetry  Middleware  Angular Dashboard   \n",
      "1  05-03-2016 12.00  Network Telemetry  Middleware         Vue Portal   \n",
      "2  05-03-2016 12.00  Network Telemetry  Middleware         Vue Portal   \n",
      "3  05-03-2016 12.00  Network Telemetry  Middleware  Angular Dashboard   \n",
      "4  06-03-2016 10.00    Finance Systems  Governance            Jenkins   \n",
      "\n",
      "                                   short_description  \n",
      "0  [NET] Scheduled task failed on Angular Dashboa...  \n",
      "1  [WARN] Performance anomaly detected in Vue Por...  \n",
      "2  [CPU] Backup job missed for Vue Portal schedul...  \n",
      "3  [ERR] Scheduled task failed on Angular Dashboa...  \n",
      "4  [WARN] Service degraded alert raised by Jenkin...  \n",
      "\n",
      "[5 rows x 40 columns]\n"
     ]
    }
   ],
   "source": [
    "# Load the dataset\n",
    "df = pd.read_csv(\"final_enriched_incident_log_v11.csv\")\n",
    "\n",
    "# Preview the dataset\n",
    "print(\"First 5 rows of the dataset:\")\n",
    "print(df.head())"
   ]
  },
  {
   "cell_type": "code",
   "execution_count": 3,
   "id": "705753b9",
   "metadata": {},
   "outputs": [
    {
     "name": "stdout",
     "output_type": "stream",
     "text": [
      "Dataset contains 141712 rows and 40 columns.\n"
     ]
    }
   ],
   "source": [
    "# Dataset shape\n",
    "print(f\"Dataset contains {df.shape[0]} rows and {df.shape[1]} columns.\")"
   ]
  },
  {
   "cell_type": "markdown",
   "id": "1f07a68c",
   "metadata": {},
   "source": [
    "Dataset has ~141k rows with 40 columns. Timestamps, assignment groups, categories and short descriptions are all there. Good enough to move forward."
   ]
  },
  {
   "cell_type": "code",
   "execution_count": 4,
   "id": "0810a093",
   "metadata": {},
   "outputs": [
    {
     "name": "stdout",
     "output_type": "stream",
     "text": [
      "Missing values in each column:\n",
      "number                     0\n",
      "incident_state             0\n",
      "active                     0\n",
      "reassignment_count         0\n",
      "reopen_count               0\n",
      "sys_mod_count              0\n",
      "made_sla                   0\n",
      "caller_id                  0\n",
      "opened_by                  0\n",
      "opened_at                  0\n",
      "sys_created_by             0\n",
      "sys_created_at             0\n",
      "sys_updated_by             0\n",
      "sys_updated_at             0\n",
      "contact_type               0\n",
      "location                   0\n",
      "category                   0\n",
      "subcategory                0\n",
      "u_symptom                  0\n",
      "cmdb_ci                    0\n",
      "impact                     0\n",
      "urgency                    0\n",
      "priority                   0\n",
      "assignment_group           0\n",
      "assigned_to                0\n",
      "knowledge                  0\n",
      "u_priority_confirmation    0\n",
      "notify                     0\n",
      "problem_id                 0\n",
      "rfc                        0\n",
      "vendor                     0\n",
      "caused_by                  0\n",
      "closed_code                0\n",
      "resolved_by                0\n",
      "resolved_at                0\n",
      "closed_at                  0\n",
      "category_name              0\n",
      "domain_name                0\n",
      "subcategory_name           0\n",
      "short_description          0\n",
      "dtype: int64\n"
     ]
    }
   ],
   "source": [
    "# Check for missing values\n",
    "print(\"Missing values in each column:\")\n",
    "print(df.isnull().sum())"
   ]
  },
  {
   "cell_type": "code",
   "execution_count": 5,
   "id": "5f09309c",
   "metadata": {},
   "outputs": [
    {
     "name": "stdout",
     "output_type": "stream",
     "text": [
      "Unique values in key columns:\n",
      "assignment_group: 79\n",
      "category_name: 59\n",
      "domain_name: 23\n",
      "subcategory_name: 39\n",
      "short_description: 141333\n"
     ]
    }
   ],
   "source": [
    "# Unique counts for key columns\n",
    "few_key_columns = [\n",
    "    'assignment_group',\n",
    "    'category_name',\n",
    "    'domain_name',\n",
    "    'subcategory_name',\n",
    "    'short_description'\n",
    "]\n",
    "\n",
    "print(\"Unique values in key columns:\")\n",
    "for col in few_key_columns:\n",
    "    print(f\"{col}: {df[col].nunique()}\")"
   ]
  },
  {
   "cell_type": "code",
   "execution_count": 6,
   "id": "49086322",
   "metadata": {},
   "outputs": [
    {
     "name": "stdout",
     "output_type": "stream",
     "text": [
      "Unique values in 'assignment_group':\n",
      "['Group 56' 'Group 70' 'Group 24' 'Group 25' 'Group 23' 'Group 28'\n",
      " 'Group 5' 'Group 15' 'Group 12' 'Group 33' 'Group 54' 'Group 29'\n",
      " 'Group 66' 'Group 65' 'Group 68' 'Group 58' 'Group 27' 'Group 72'\n",
      " 'Group 30' 'Group 50' 'Group 55' 'Group 62' 'Group 47' 'Group 22'\n",
      " 'Group 39' 'Group 73' '?' 'Group 20' 'Group 46' 'Group 67' 'Group 74'\n",
      " 'Group 34' 'Group 69' 'Group 3' 'Group 31' 'Group 26' 'Group 53'\n",
      " 'Group 76' 'Group 6' 'Group 61' 'Group 57' 'Group 37' 'Group 48'\n",
      " 'Group 17' 'Group 49' 'Group 43' 'Group 60' 'Group 10' 'Group 9'\n",
      " 'Group 45' 'Group 14' 'Group 59' 'Group 64' 'Group 51' 'Group 75'\n",
      " 'Group 11' 'Group 19' 'Group 21' 'Group 77' 'Group 2' 'Group 13'\n",
      " 'Group 35' 'Group 81' 'Group 44' 'Group 63' 'Group 79' 'Group 32'\n",
      " 'Group 78' 'Group 36' 'Group 82' 'Group 80' 'Group 4' 'Group 71'\n",
      " 'Group 18' 'Group 38' 'Group 16' 'Group 41' 'Group 7' 'Group 8']\n",
      "Unique values in 'category_name':\n",
      "['Network Telemetry' 'Finance Systems' 'DevOps Tools' 'Storage Systems'\n",
      " 'Load Balancing' 'Telemetry Systems' 'Release Engineering' 'IoT Services'\n",
      " 'Network Security' 'Infrastructure Ops' 'IT Governance' 'Proxy Ops'\n",
      " 'Incident Response' 'Mobile Ops' 'Compliance & Audit' 'Remote Access'\n",
      " 'UX Services' 'Network Ops' 'Analytics & Insights' 'Platform Engineering'\n",
      " 'Access Management' 'Email & Messaging' 'Integration Services'\n",
      " 'API Management' 'Service Quality' 'Voice Systems' 'Middleware Ops'\n",
      " 'Change Control' 'Automation Team' 'Cloud Infrastructure' 'AI Services'\n",
      " 'Enterprise Applications' 'Kubernetes Cluster Ops' 'SaaS Management'\n",
      " 'Object Storage' 'Backup & Recovery' 'Enterprise Apps' 'Procurement IT'\n",
      " 'DBA Services' 'HR Tech Ops' 'Licensing' 'Performance Testing'\n",
      " 'Service Desk' 'CMDB Operations' 'Workplace IT' 'Patch Management'\n",
      " 'Ticket Triage' 'Storage Management' 'Customer Support'\n",
      " 'Monitoring & Alerting' 'Desktop Engineering' 'Security Incident Mgmt'\n",
      " 'Data Engineering' 'Service Integration' 'Collaboration Tools'\n",
      " 'Capacity Planning' 'App Delivery' 'Data Privacy' 'Security Ops']\n",
      "Unique values in 'domain_name':\n",
      "['Middleware' 'Governance' 'DevOps' 'SAN/NAS' 'Cloud' 'Telecom'\n",
      " 'Analytics' 'Automation' 'Security' 'Virtualization & Backup'\n",
      " 'Identity Management' 'Frontend' 'Databases' 'Applications'\n",
      " 'OS Platforms' 'Support Services' 'Networking' 'Storage' 'AI Systems'\n",
      " 'Business Tools' 'Collaboration' 'Service Management' 'Monitoring']\n",
      "Unique values in 'subcategory_name':\n",
      "['Angular Dashboard' 'Vue Portal' 'Jenkins' 'SAP Gateway' 'Apache Tomcat'\n",
      " 'Linux Kernel' 'VMware Host' 'Windows Server' 'NetApp AFF'\n",
      " 'Dell EMC Unity' 'QNAP TS Series' 'GCP Bucket' 'AWS EC2' 'Azure VM'\n",
      " 'Zabbix Node' 'Grafana Agent' 'Prometheus' 'React UI' 'Juniper Switch'\n",
      " 'Cisco Router' 'Firewall' 'VMware vCenter' 'Palo Alto' 'CrowdStrike'\n",
      " 'Okta' 'API Gateway' 'Kafka Broker' 'RabbitMQ' 'Commvault Backup'\n",
      " 'Hyper-V Cluster' 'MySQL' 'Oracle DB' 'PostgreSQL' 'SAP ECC'\n",
      " 'Oracle Fusion' 'Workday HCM' 'Dell SAN' 'NetApp Volume' 'S3 Bucket']\n",
      "Unique values in 'short_description':\n",
      "['[NET] Scheduled task failed on Angular Dashboard instance [ANG-5034] - check logs for diagnostics'\n",
      " '[WARN] Performance anomaly detected in Vue Portal [VUE-9397] - check logs for diagnostics'\n",
      " '[CPU] Backup job missed for Vue Portal scheduled window [VUE-2179] - check logs for diagnostics'\n",
      " ...\n",
      " '[SLA] Performance anomaly detected in Firewall [FIR-3764] - check logs for diagnostics'\n",
      " '[WARN] Error logs exceed threshold for Firewall [FIR-5780] - check logs for diagnostics'\n",
      " '[FAIL] Performance anomaly detected in Firewall [FIR-8956] - check logs for diagnostics']\n"
     ]
    }
   ],
   "source": [
    "# List the actual unique values\n",
    "for col in few_key_columns:\n",
    "    print(f\"Unique values in '{col}':\")\n",
    "    print(df[col].unique())"
   ]
  },
  {
   "cell_type": "markdown",
   "id": "5881c505",
   "metadata": {},
   "source": [
    "### 2. Cleaning & Preprocessing"
   ]
  },
  {
   "cell_type": "markdown",
   "id": "da930f01",
   "metadata": {},
   "source": [
    "Now I clean the data: convert timestamps properly, calculate `resolution_time_hours`, and drop rows that don’t have this info (since they are useless for my question).  \n",
    "I also check for nulls in domain/category/assignment and fix them.  \n",
    "Basically, just making sure I don’t carry junk forward."
   ]
  },
  {
   "cell_type": "code",
   "execution_count": 7,
   "id": "1d244e58",
   "metadata": {},
   "outputs": [
    {
     "name": "stdout",
     "output_type": "stream",
     "text": [
      "            opened_at         resolved_at  resolution_time_hours\n",
      "0 2016-02-29 01:16:00 2016-02-29 11:29:00              10.216667\n",
      "1 2016-02-29 01:16:00 2016-02-29 11:29:00              10.216667\n",
      "2 2016-02-29 01:16:00 2016-02-29 11:29:00              10.216667\n",
      "3 2016-02-29 01:16:00 2016-02-29 11:29:00              10.216667\n",
      "4 2016-02-29 04:40:00 2016-03-01 09:52:00              29.200000\n"
     ]
    }
   ],
   "source": [
    "# Convert 'opened_at' and 'resolved_at' to datetime\n",
    "df['opened_at'] = pd.to_datetime(df['opened_at'], format=\"%d-%m-%Y %H.%M\", errors='coerce')\n",
    "df['resolved_at'] = pd.to_datetime(df['resolved_at'], format=\"%d-%m-%Y %H.%M\", errors='coerce')\n",
    "\n",
    "# Calculate resolution time in hours\n",
    "df['resolution_time_hours'] = (df['resolved_at'] - df['opened_at']).dt.total_seconds() / 3600\n",
    "\n",
    "# Display a few rows to verify\n",
    "print(df[['opened_at', 'resolved_at', 'resolution_time_hours']].head())"
   ]
  },
  {
   "cell_type": "code",
   "execution_count": 8,
   "id": "aa61cc67",
   "metadata": {},
   "outputs": [
    {
     "name": "stdout",
     "output_type": "stream",
     "text": [
      "\n",
      "Missing values:\n",
      "3141\n"
     ]
    }
   ],
   "source": [
    "# Check for missing/invalid values\n",
    "print(\"\\nMissing values:\")\n",
    "print(df['resolution_time_hours'].isnull().sum())"
   ]
  },
  {
   "cell_type": "code",
   "execution_count": 9,
   "id": "e0b689b4",
   "metadata": {},
   "outputs": [
    {
     "data": {
      "image/png": "[encoded data removed]",
      "text/plain": [
       "<Figure size 720x360 with 1 Axes>"
      ]
     },
     "metadata": {
      "needs_background": "light"
     },
     "output_type": "display_data"
    }
   ],
   "source": [
    "# Visualize the distribution\n",
    "plt.figure(figsize=(10, 5))\n",
    "sns.histplot(df['resolution_time_hours'].dropna(), bins=100, kde=True)\n",
    "plt.title('Distribution of Resolution Time (Hours)')\n",
    "plt.xlabel('Resolution Time (Hours)')\n",
    "plt.ylabel('Ticket Count')\n",
    "plt.show()"
   ]
  },
  {
   "cell_type": "code",
   "execution_count": 10,
   "id": "d363e986",
   "metadata": {},
   "outputs": [
    {
     "name": "stdout",
     "output_type": "stream",
     "text": [
      "\n",
      "Skewness of resolution_time_hours: 5.58\n"
     ]
    }
   ],
   "source": [
    "# Check skewness\n",
    "skewness_value = skew(df['resolution_time_hours'].dropna())\n",
    "print(f\"\\nSkewness of resolution_time_hours: {skewness_value:.2f}\")"
   ]
  },
  {
   "cell_type": "code",
   "execution_count": 11,
   "id": "00400f0e",
   "metadata": {},
   "outputs": [
    {
     "name": "stdout",
     "output_type": "stream",
     "text": [
      "\n",
      "Number of outliers in resolution_time_hours: 12089\n"
     ]
    }
   ],
   "source": [
    "# Check for outliers using IQR\n",
    "Q1 = df['resolution_time_hours'].quantile(0.25)\n",
    "Q3 = df['resolution_time_hours'].quantile(0.75)\n",
    "IQR = Q3 - Q1\n",
    "outliers = df[(df['resolution_time_hours'] < Q1 - 1.5 * IQR) | \n",
    "              (df['resolution_time_hours'] > Q3 + 1.5 * IQR)]\n",
    "print(f\"\\nNumber of outliers in resolution_time_hours: {len(outliers)}\")"
   ]
  },
  {
   "cell_type": "code",
   "execution_count": 12,
   "id": "c1e90710",
   "metadata": {},
   "outputs": [
    {
     "data": {
      "image/png": "[encoded data removed]",
      "text/plain": [
       "<Figure size 720x144 with 1 Axes>"
      ]
     },
     "metadata": {
      "needs_background": "light"
     },
     "output_type": "display_data"
    }
   ],
   "source": [
    "# Visualize outliers\n",
    "plt.figure(figsize=(10, 2))\n",
    "sns.boxplot(x=df['resolution_time_hours'].dropna())\n",
    "plt.title('Boxplot of Resolution Time')\n",
    "plt.show()"
   ]
  },
  {
   "cell_type": "markdown",
   "id": "f12c6387",
   "metadata": {},
   "source": [
    "### 3. Target Creation (Resolution Classes)"
   ]
  },
  {
   "cell_type": "code",
   "execution_count": 13,
   "id": "df709127",
   "metadata": {},
   "outputs": [],
   "source": [
    "# Binning based on fixed thresholds (real time)\n",
    "bins = [0, 48, 168, df['resolution_time_hours'].max()]\n",
    "labels = ['Short', 'Moderate', 'Long']\n",
    "\n",
    "df['resolution_class'] = pd.cut(df['resolution_time_hours'], bins=bins, labels=labels, right=False)"
   ]
  },
  {
   "cell_type": "code",
   "execution_count": 14,
   "id": "5321771e",
   "metadata": {},
   "outputs": [
    {
     "name": "stdout",
     "output_type": "stream",
     "text": [
      "\n",
      "Class distribution:\n",
      "Short       60455\n",
      "Long        48345\n",
      "Moderate    29766\n",
      "Name: resolution_class, dtype: int64\n"
     ]
    }
   ],
   "source": [
    "# Check imbalance of bins\n",
    "print(\"\\nClass distribution:\")\n",
    "print(df['resolution_class'].value_counts())"
   ]
  },
  {
   "cell_type": "markdown",
   "id": "f6b1965f",
   "metadata": {},
   "source": [
    "Here I turn continuous resolution hours into 3 classes.  \n",
    "In Part B I tried simple cut-offs like 48h/168h. But for final modelling I use quantile-based cutoffs:  \n",
    "- Fast ≤ 17.87h  \n",
    "- Moderate = 17.87–122.55h  \n",
    "- Slow > 122.55h  \n",
    "\n",
    "This balances the classes better and makes the model training more stable.  \n",
    "It also maps well to real SLA windows (1 day vs 5 days vs long delays)."
   ]
  },
  {
   "cell_type": "code",
   "execution_count": 15,
   "id": "7fc0b082",
   "metadata": {},
   "outputs": [
    {
     "name": "stdout",
     "output_type": "stream",
     "text": [
      "\n",
      "Feature correlations with resolution_time_hours:\n",
      "resolution_time_hours    1.000000\n",
      "sys_mod_count            0.604187\n",
      "reassignment_count       0.158766\n",
      "reopen_count             0.052963\n",
      "dtype: float64\n"
     ]
    }
   ],
   "source": [
    "# Check feature-target correlations (for numeric features)\n",
    "num_features = df.select_dtypes(include=[np.number])\n",
    "correlations = num_features.corrwith(df['resolution_time_hours']).sort_values(ascending=False)\n",
    "print(\"\\nFeature correlations with resolution_time_hours:\")\n",
    "print(correlations)"
   ]
  },
  {
   "cell_type": "markdown",
   "id": "cd33dbe5",
   "metadata": {},
   "source": [
    "### 4. Exploratory Data Analysis (EDA)"
   ]
  },
  {
   "cell_type": "code",
   "execution_count": 16,
   "id": "3108c5f8",
   "metadata": {},
   "outputs": [
    {
     "data": {
      "image/png": "[encoded data removed]",
      "text/plain": [
       "<Figure size 576x288 with 1 Axes>"
      ]
     },
     "metadata": {
      "needs_background": "light"
     },
     "output_type": "display_data"
    },
    {
     "data": {
      "image/png": "[encoded data removed]",
      "text/plain": [
       "<Figure size 576x288 with 1 Axes>"
      ]
     },
     "metadata": {
      "needs_background": "light"
     },
     "output_type": "display_data"
    },
    {
     "data": {
      "image/png": "[encoded data removed]",
      "text/plain": [
       "<Figure size 576x288 with 1 Axes>"
      ]
     },
     "metadata": {
      "needs_background": "light"
     },
     "output_type": "display_data"
    },
    {
     "data": {
      "image/png": "[encoded data removed]",
      "text/plain": [
       "<Figure size 576x288 with 1 Axes>"
      ]
     },
     "metadata": {
      "needs_background": "light"
     },
     "output_type": "display_data"
    }
   ],
   "source": [
    "# Visualize distributions of key features\n",
    "key_features = correlations.head(5).index.tolist()\n",
    "\n",
    "for feature in key_features:\n",
    "    plt.figure(figsize=(8, 4))\n",
    "    sns.histplot(df[feature].dropna(), bins=50, kde=True)\n",
    "    plt.title(f'Distribution of {feature}')\n",
    "    plt.xlabel(feature)\n",
    "    plt.ylabel('Frequency')\n",
    "    plt.show()"
   ]
  },
  {
   "cell_type": "code",
   "execution_count": 17,
   "id": "99d6c08f",
   "metadata": {},
   "outputs": [
    {
     "data": {
      "image/png": "[encoded data removed]",
      "text/plain": [
       "<Figure size 1008x432 with 1 Axes>"
      ]
     },
     "metadata": {
      "needs_background": "light"
     },
     "output_type": "display_data"
    }
   ],
   "source": [
    "# Drop rows with missing resolution_time or categorical features\n",
    "df_cleaned = df.dropna(subset=['resolution_time_hours', 'domain_name', 'category_name', 'assignment_group'])\n",
    "\n",
    "# Boxplot - Domain\n",
    "plt.figure(figsize=(14, 6))\n",
    "sns.boxplot(data=df_cleaned, x='domain_name', y='resolution_time_hours')\n",
    "plt.xticks(rotation=90)\n",
    "plt.title(\"Resolution Time by Domain\")\n",
    "plt.tight_layout()\n",
    "plt.show()"
   ]
  },
  {
   "cell_type": "code",
   "execution_count": 18,
   "id": "567cd972",
   "metadata": {},
   "outputs": [
    {
     "data": {
      "image/png": "[encoded data removed]",
      "text/plain": [
       "<Figure size 1152x432 with 1 Axes>"
      ]
     },
     "metadata": {
      "needs_background": "light"
     },
     "output_type": "display_data"
    }
   ],
   "source": [
    "# Boxplot - Category\n",
    "plt.figure(figsize=(16, 6))\n",
    "sns.boxplot(data=df_cleaned, x='category_name', y='resolution_time_hours')\n",
    "plt.xticks(rotation=90)\n",
    "plt.title(\"Resolution Time by Category\")\n",
    "plt.tight_layout()\n",
    "plt.show()"
   ]
  },
  {
   "cell_type": "markdown",
   "id": "ef745ac7",
   "metadata": {},
   "source": [
    "Boxplot of resolution times across top assignment groups — to check if some teams consistently take longer."
   ]
  },
  {
   "cell_type": "code",
   "execution_count": 19,
   "id": "6f53a007",
   "metadata": {},
   "outputs": [
    {
     "data": {
      "image/png": "[encoded data removed]",
      "text/plain": [
       "<Figure size 1008x432 with 1 Axes>"
      ]
     },
     "metadata": {
      "needs_background": "light"
     },
     "output_type": "display_data"
    }
   ],
   "source": [
    "# Boxplot - Top 20 Assignment Groups only\n",
    "top_20 = df_cleaned['assignment_group'].value_counts().head(20).index\n",
    "filtered_df = df_cleaned[df_cleaned['assignment_group'].isin(top_20)]\n",
    "\n",
    "plt.figure(figsize=(14, 6))\n",
    "sns.boxplot(data=filtered_df, x='assignment_group', y='resolution_time_hours')\n",
    "plt.xticks(rotation=90)\n",
    "plt.title(\"Resolution Time by Top 20 Assignment Groups\")\n",
    "plt.tight_layout()\n",
    "plt.show()"
   ]
  },
  {
   "cell_type": "markdown",
   "id": "1c2e17e0",
   "metadata": {},
   "source": [
    "\n",
    "Clear group-level variation. Some teams have longer medians -> process inefficiencies."
   ]
  },
  {
   "cell_type": "code",
   "execution_count": 20,
   "id": "5e48ab33",
   "metadata": {},
   "outputs": [
    {
     "name": "stdout",
     "output_type": "stream",
     "text": [
      "ANOVA p-value (Domain): 0.0\n",
      "ANOVA p-value (Category): 0.0\n",
      "ANOVA p-value (Assignment Group - Top 20): 0.0\n"
     ]
    }
   ],
   "source": [
    "# ANOVA - Domain\n",
    "domain_anova = f_oneway(*[group['resolution_time_hours'].values for _, group in df_cleaned.groupby('domain_name')])\n",
    "# ANOVA - Category\n",
    "category_anova = f_oneway(*[group['resolution_time_hours'].values for _, group in df_cleaned.groupby('category_name')])\n",
    "# ANOVA - Top 20 Assignment Groups\n",
    "group_anova = f_oneway(*[group['resolution_time_hours'].values for _, group in filtered_df.groupby('assignment_group')])\n",
    "\n",
    "# Print results\n",
    "print(\"ANOVA p-value (Domain):\", domain_anova.pvalue)\n",
    "print(\"ANOVA p-value (Category):\", category_anova.pvalue)\n",
    "print(\"ANOVA p-value (Assignment Group - Top 20):\", group_anova.pvalue)"
   ]
  },
  {
   "cell_type": "code",
   "execution_count": 21,
   "id": "ad9f2e0c",
   "metadata": {},
   "outputs": [
    {
     "name": "stdout",
     "output_type": "stream",
     "text": [
      "\n",
      "Updated class distribution:\n",
      " Short       60455\n",
      "Long        48345\n",
      "Moderate    29766\n",
      "Name: resolution_class, dtype: int64\n"
     ]
    },
    {
     "data": {
      "image/png": "[encoded data removed]",
      "text/plain": [
       "<Figure size 432x288 with 1 Axes>"
      ]
     },
     "metadata": {
      "needs_background": "light"
     },
     "output_type": "display_data"
    }
   ],
   "source": [
    "# View class distribution\n",
    "class_counts = df['resolution_class'].value_counts()\n",
    "print(\"\\nUpdated class distribution:\\n\", class_counts)\n",
    "\n",
    "# Visualize class distribution\n",
    "plt.figure(figsize=(6, 4))\n",
    "sns.countplot(data=df, x='resolution_class', order=labels)\n",
    "plt.title(\"Distribution of Resolution Classes\")\n",
    "plt.xlabel(\"Resolution Class\")\n",
    "plt.ylabel(\"Number of Tickets\")\n",
    "plt.tight_layout()\n",
    "plt.show()"
   ]
  },
  {
   "cell_type": "markdown",
   "id": "f438d161",
   "metadata": {},
   "source": [
    "While there’s a slight imbalance (Moderate is lower), it’s not extreme. Most classifiers can handle this level of imbalance without needing oversampling or SMOTE, especially if we use stratified train-test split or class weights.\n",
    "\n"
   ]
  },
  {
   "cell_type": "markdown",
   "id": "56f05c54",
   "metadata": {},
   "source": [
    "Statistical test of association between categorical fields (priority, impact, urgency, SLA) and resolution class."
   ]
  },
  {
   "cell_type": "code",
   "execution_count": 22,
   "id": "db9e331f",
   "metadata": {},
   "outputs": [
    {
     "name": "stdout",
     "output_type": "stream",
     "text": [
      "\n",
      "--- priority ---\n",
      "Chi-square p-value: 0.00000\n",
      "Cramér’s V: 0.0162\n",
      "\n",
      "--- impact ---\n",
      "Chi-square p-value: 0.00000\n",
      "Cramér’s V: 0.0150\n",
      "\n",
      "--- urgency ---\n",
      "Chi-square p-value: 0.00000\n",
      "Cramér’s V: 0.0123\n",
      "\n",
      "--- made_sla ---\n",
      "Chi-square p-value: 0.00000\n",
      "Cramér’s V: 0.1576\n"
     ]
    }
   ],
   "source": [
    "# Function to calculate Cramér’s V\n",
    "def cramers_v(confusion_matrix):\n",
    "    chi2 = stats.chi2_contingency(confusion_matrix)[0]\n",
    "    n = confusion_matrix.sum().sum()\n",
    "    phi2 = chi2 / n\n",
    "    r, k = confusion_matrix.shape\n",
    "    phi2_corr = max(0, phi2 - ((k-1)*(r-1)) / (n-1))  # Bias correction\n",
    "    r_corr = r - ((r-1)**2) / (n-1)\n",
    "    k_corr = k - ((k-1)**2) / (n-1)\n",
    "    return np.sqrt(phi2_corr / min((k_corr - 1), (r_corr - 1)))\n",
    "\n",
    "# List of categorical features to test\n",
    "categorical_features = ['priority', 'impact', 'urgency', 'made_sla']\n",
    "\n",
    "# Chi-square and Cramér’s V results\n",
    "for feature in categorical_features:\n",
    "    print(f\"\\n--- {feature} ---\")\n",
    "    \n",
    "    # Create contingency table\n",
    "    contingency_table = pd.crosstab(df[feature], df['resolution_class'])\n",
    "    \n",
    "    # Chi-square test\n",
    "    chi2, p, dof, expected = stats.chi2_contingency(contingency_table)\n",
    "    print(f\"Chi-square p-value: {p:.5f}\")\n",
    "    \n",
    "    # Cramér’s V\n",
    "    cramer_v_value = cramers_v(contingency_table)\n",
    "    print(f\"Cramér’s V: {cramer_v_value:.4f}\")\n"
   ]
  },
  {
   "cell_type": "markdown",
   "id": "5fcdabd2",
   "metadata": {},
   "source": [
    "I can include made_sla as a potentially helpful feature in modeling or analysis.\n",
    "\n",
    "priority, impact, urgency may not add much value individually - but could still be tested in models for interaction effects."
   ]
  },
  {
   "cell_type": "code",
   "execution_count": 23,
   "id": "d1ca5c98",
   "metadata": {},
   "outputs": [
    {
     "name": "stdout",
     "output_type": "stream",
     "text": [
      "\n",
      "--- Decision Tree ---\n",
      "              precision    recall  f1-score   support\n",
      "\n",
      "        Long       0.64      0.58      0.61      9623\n",
      "    Moderate       0.39      0.01      0.03      6001\n",
      "       Short       0.58      0.91      0.71     12090\n",
      "\n",
      "    accuracy                           0.60     27714\n",
      "   macro avg       0.54      0.50      0.45     27714\n",
      "weighted avg       0.56      0.60      0.53     27714\n",
      "\n",
      "Confusion Matrix:\n",
      "[[ 5583    98  3942]\n",
      " [ 2000    83  3918]\n",
      " [ 1107    32 10951]]\n"
     ]
    },
    {
     "data": {
      "image/png": "[encoded data removed]",
      "text/plain": [
       "<Figure size 1440x576 with 1 Axes>"
      ]
     },
     "metadata": {
      "needs_background": "light"
     },
     "output_type": "display_data"
    },
    {
     "name": "stdout",
     "output_type": "stream",
     "text": [
      "\n",
      "--- Random Forest ---\n",
      "              precision    recall  f1-score   support\n",
      "\n",
      "        Long       0.65      0.56      0.60      9623\n",
      "    Moderate       0.39      0.06      0.11      6001\n",
      "       Short       0.58      0.90      0.71     12090\n",
      "\n",
      "    accuracy                           0.60     27714\n",
      "   macro avg       0.54      0.51      0.47     27714\n",
      "weighted avg       0.57      0.60      0.54     27714\n",
      "\n",
      "Confusion Matrix:\n",
      "[[ 5371   369  3883]\n",
      " [ 1806   377  3818]\n",
      " [ 1025   210 10855]]\n"
     ]
    },
    {
     "data": {
      "image/png": "[encoded data removed]",
      "text/plain": [
       "<Figure size 720x432 with 1 Axes>"
      ]
     },
     "metadata": {
      "needs_background": "light"
     },
     "output_type": "display_data"
    }
   ],
   "source": [
    "# Select features for modeling\n",
    "features = ['priority', 'impact', 'urgency', 'made_sla', 'reassignment_count', 'reopen_count', 'sys_mod_count']\n",
    "df_model = df[features + ['resolution_class']].dropna()\n",
    "\n",
    "# Convert categorical variables to numeric\n",
    "df_model_encoded = pd.get_dummies(df_model, columns=['priority', 'impact', 'urgency', 'made_sla'], drop_first=True)\n",
    "\n",
    "# Split into X and y\n",
    "X = df_model_encoded.drop('resolution_class', axis=1)\n",
    "y = df_model_encoded['resolution_class']\n",
    "\n",
    "# Train-test split\n",
    "X_train, X_test, y_train, y_test = train_test_split(X, y, test_size=0.2, random_state=42)\n",
    "\n",
    "### 1. Decision Tree\n",
    "dt_model = DecisionTreeClassifier(random_state=42, max_depth=5)\n",
    "dt_model.fit(X_train, y_train)\n",
    "\n",
    "# Evaluation\n",
    "print(\"\\n--- Decision Tree ---\")\n",
    "y_pred_dt = dt_model.predict(X_test)\n",
    "print(classification_report(y_test, y_pred_dt))\n",
    "print(\"Confusion Matrix:\")\n",
    "print(confusion_matrix(y_test, y_pred_dt))\n",
    "\n",
    "# Optional: Visualize the decision tree\n",
    "plt.figure(figsize=(20, 8))\n",
    "plot_tree(dt_model, feature_names=X.columns, class_names=dt_model.classes_, filled=True)\n",
    "plt.title(\"Decision Tree\")\n",
    "plt.show()\n",
    "\n",
    "### 2. Random Forest\n",
    "rf_model = RandomForestClassifier(n_estimators=100, random_state=42)\n",
    "rf_model.fit(X_train, y_train)\n",
    "\n",
    "# Evaluation\n",
    "print(\"\\n--- Random Forest ---\")\n",
    "y_pred_rf = rf_model.predict(X_test)\n",
    "print(classification_report(y_test, y_pred_rf))\n",
    "print(\"Confusion Matrix:\")\n",
    "print(confusion_matrix(y_test, y_pred_rf))\n",
    "\n",
    "# Feature Importance\n",
    "importances = pd.Series(rf_model.feature_importances_, index=X.columns)\n",
    "importances = importances.sort_values(ascending=False)\n",
    "\n",
    "plt.figure(figsize=(10, 6))\n",
    "sns.barplot(x=importances, y=importances.index)\n",
    "plt.title(\"Feature Importances - Random Forest\")\n",
    "plt.xlabel(\"Importance Score\")\n",
    "plt.show()"
   ]
  },
  {
   "cell_type": "code",
   "execution_count": 24,
   "id": "f0d78491",
   "metadata": {},
   "outputs": [
    {
     "data": {
      "image/png": "[encoded data removed]",
      "text/plain": [
       "<Figure size 1440x720 with 1 Axes>"
      ]
     },
     "metadata": {
      "needs_background": "light"
     },
     "output_type": "display_data"
    }
   ],
   "source": [
    "# Encode target variable\n",
    "from sklearn.preprocessing import LabelEncoder\n",
    "le = LabelEncoder()\n",
    "df['resolution_class_encoded'] = le.fit_transform(df['resolution_class'])\n",
    "\n",
    "# Select features\n",
    "features = ['sys_mod_count', 'reassignment_count', 'reopen_count', 'made_sla',\n",
    "            'priority', 'impact', 'urgency']\n",
    "df_encoded = pd.get_dummies(df[features], drop_first=True)\n",
    "\n",
    "X = df_encoded\n",
    "y = df['resolution_class_encoded']\n",
    "\n",
    "# Train-test split\n",
    "X_train, X_test, y_train, y_test = train_test_split(X, y, test_size=0.2, random_state=42)\n",
    "\n",
    "# Simpler Decision Tree Classifier (max_depth = 3)\n",
    "dtree = DecisionTreeClassifier(max_depth=3, random_state=42)\n",
    "dtree.fit(X_train, y_train)\n",
    "\n",
    "# Plot the simplified tree\n",
    "plt.figure(figsize=(20, 10))\n",
    "plot_tree(dtree, feature_names=X.columns, class_names=le.classes_, filled=True, rounded=True)\n",
    "plt.title(\"Simplified Decision Tree (Max Depth = 3)\")\n",
    "plt.show()"
   ]
  },
  {
   "cell_type": "markdown",
   "id": "d3eff700",
   "metadata": {},
   "source": [
    "Analyse how reassignment_count affects resolution time."
   ]
  },
  {
   "cell_type": "code",
   "execution_count": null,
   "id": "b73171d2",
   "metadata": {},
   "outputs": [],
   "source": [
    "reassign_vs_time = df.groupby('reassignment_count')['resolution_time_hours'].mean().reset_index()\n",
    "reassign_vs_time.columns = ['reassignment_count', 'avg_resolution_time']"
   ]
  },
  {
   "cell_type": "code",
   "execution_count": 26,
   "id": "814e556d",
   "metadata": {},
   "outputs": [
    {
     "data": {
      "text/html": [
       "<div>\n",
       "<style scoped>\n",
       "    .dataframe tbody tr th:only-of-type {\n",
       "        vertical-align: middle;\n",
       "    }\n",
       "\n",
       "    .dataframe tbody tr th {\n",
       "        vertical-align: top;\n",
       "    }\n",
       "\n",
       "    .dataframe thead th {\n",
       "        text-align: right;\n",
       "    }\n",
       "</style>\n",
       "<table border=\"1\" class=\"dataframe\">\n",
       "  <thead>\n",
       "    <tr style=\"text-align: right;\">\n",
       "      <th></th>\n",
       "      <th>reassignment_count</th>\n",
       "      <th>avg_resolution_time</th>\n",
       "    </tr>\n",
       "  </thead>\n",
       "  <tbody>\n",
       "    <tr>\n",
       "      <th>0</th>\n",
       "      <td>0</td>\n",
       "      <td>190.335962</td>\n",
       "    </tr>\n",
       "    <tr>\n",
       "      <th>1</th>\n",
       "      <td>1</td>\n",
       "      <td>247.787212</td>\n",
       "    </tr>\n",
       "    <tr>\n",
       "      <th>2</th>\n",
       "      <td>2</td>\n",
       "      <td>387.856941</td>\n",
       "    </tr>\n",
       "    <tr>\n",
       "      <th>3</th>\n",
       "      <td>3</td>\n",
       "      <td>433.238939</td>\n",
       "    </tr>\n",
       "    <tr>\n",
       "      <th>4</th>\n",
       "      <td>4</td>\n",
       "      <td>492.820380</td>\n",
       "    </tr>\n",
       "    <tr>\n",
       "      <th>5</th>\n",
       "      <td>5</td>\n",
       "      <td>492.046609</td>\n",
       "    </tr>\n",
       "    <tr>\n",
       "      <th>6</th>\n",
       "      <td>6</td>\n",
       "      <td>594.077194</td>\n",
       "    </tr>\n",
       "    <tr>\n",
       "      <th>7</th>\n",
       "      <td>7</td>\n",
       "      <td>538.279662</td>\n",
       "    </tr>\n",
       "    <tr>\n",
       "      <th>8</th>\n",
       "      <td>8</td>\n",
       "      <td>587.185685</td>\n",
       "    </tr>\n",
       "    <tr>\n",
       "      <th>9</th>\n",
       "      <td>9</td>\n",
       "      <td>659.301826</td>\n",
       "    </tr>\n",
       "    <tr>\n",
       "      <th>10</th>\n",
       "      <td>10</td>\n",
       "      <td>600.794444</td>\n",
       "    </tr>\n",
       "    <tr>\n",
       "      <th>11</th>\n",
       "      <td>11</td>\n",
       "      <td>562.392146</td>\n",
       "    </tr>\n",
       "    <tr>\n",
       "      <th>12</th>\n",
       "      <td>12</td>\n",
       "      <td>687.624691</td>\n",
       "    </tr>\n",
       "    <tr>\n",
       "      <th>13</th>\n",
       "      <td>13</td>\n",
       "      <td>682.282787</td>\n",
       "    </tr>\n",
       "    <tr>\n",
       "      <th>14</th>\n",
       "      <td>14</td>\n",
       "      <td>760.881111</td>\n",
       "    </tr>\n",
       "    <tr>\n",
       "      <th>15</th>\n",
       "      <td>15</td>\n",
       "      <td>652.134921</td>\n",
       "    </tr>\n",
       "    <tr>\n",
       "      <th>16</th>\n",
       "      <td>16</td>\n",
       "      <td>864.703846</td>\n",
       "    </tr>\n",
       "    <tr>\n",
       "      <th>17</th>\n",
       "      <td>17</td>\n",
       "      <td>610.073958</td>\n",
       "    </tr>\n",
       "    <tr>\n",
       "      <th>18</th>\n",
       "      <td>18</td>\n",
       "      <td>1069.138462</td>\n",
       "    </tr>\n",
       "    <tr>\n",
       "      <th>19</th>\n",
       "      <td>19</td>\n",
       "      <td>706.214583</td>\n",
       "    </tr>\n",
       "    <tr>\n",
       "      <th>20</th>\n",
       "      <td>20</td>\n",
       "      <td>610.509375</td>\n",
       "    </tr>\n",
       "    <tr>\n",
       "      <th>21</th>\n",
       "      <td>21</td>\n",
       "      <td>872.988889</td>\n",
       "    </tr>\n",
       "    <tr>\n",
       "      <th>22</th>\n",
       "      <td>22</td>\n",
       "      <td>973.392593</td>\n",
       "    </tr>\n",
       "    <tr>\n",
       "      <th>23</th>\n",
       "      <td>23</td>\n",
       "      <td>1174.200000</td>\n",
       "    </tr>\n",
       "    <tr>\n",
       "      <th>24</th>\n",
       "      <td>24</td>\n",
       "      <td>1174.200000</td>\n",
       "    </tr>\n",
       "    <tr>\n",
       "      <th>25</th>\n",
       "      <td>25</td>\n",
       "      <td>1174.200000</td>\n",
       "    </tr>\n",
       "    <tr>\n",
       "      <th>26</th>\n",
       "      <td>26</td>\n",
       "      <td>1174.200000</td>\n",
       "    </tr>\n",
       "    <tr>\n",
       "      <th>27</th>\n",
       "      <td>27</td>\n",
       "      <td>1174.200000</td>\n",
       "    </tr>\n",
       "  </tbody>\n",
       "</table>\n",
       "</div>"
      ],
      "text/plain": [
       "    reassignment_count  avg_resolution_time\n",
       "0                    0           190.335962\n",
       "1                    1           247.787212\n",
       "2                    2           387.856941\n",
       "3                    3           433.238939\n",
       "4                    4           492.820380\n",
       "5                    5           492.046609\n",
       "6                    6           594.077194\n",
       "7                    7           538.279662\n",
       "8                    8           587.185685\n",
       "9                    9           659.301826\n",
       "10                  10           600.794444\n",
       "11                  11           562.392146\n",
       "12                  12           687.624691\n",
       "13                  13           682.282787\n",
       "14                  14           760.881111\n",
       "15                  15           652.134921\n",
       "16                  16           864.703846\n",
       "17                  17           610.073958\n",
       "18                  18          1069.138462\n",
       "19                  19           706.214583\n",
       "20                  20           610.509375\n",
       "21                  21           872.988889\n",
       "22                  22           973.392593\n",
       "23                  23          1174.200000\n",
       "24                  24          1174.200000\n",
       "25                  25          1174.200000\n",
       "26                  26          1174.200000\n",
       "27                  27          1174.200000"
      ]
     },
     "execution_count": 26,
     "metadata": {},
     "output_type": "execute_result"
    }
   ],
   "source": [
    "reassign_vs_time"
   ]
  },
  {
   "cell_type": "markdown",
   "id": "a87b1236",
   "metadata": {},
   "source": [
    "Each reassignment adds significant delay. Beyond 2 reassignments, mean resolution time rises sharply."
   ]
  },
  {
   "cell_type": "code",
   "execution_count": 27,
   "id": "bf305e33",
   "metadata": {},
   "outputs": [],
   "source": [
    "# Group by reassignment count and count tickets in each group\n",
    "count_per_group = df.groupby('reassignment_count').size().reset_index(name='ticket_count')\n",
    "\n",
    "# If you already have avg_resolution_time\n",
    "penalty_table = df.groupby('reassignment_count')['resolution_time_hours'].mean().reset_index()\n",
    "penalty_table = penalty_table.merge(count_per_group, on='reassignment_count')\n"
   ]
  },
  {
   "cell_type": "code",
   "execution_count": 28,
   "id": "32c3700e",
   "metadata": {},
   "outputs": [
    {
     "data": {
      "text/html": [
       "<div>\n",
       "<style scoped>\n",
       "    .dataframe tbody tr th:only-of-type {\n",
       "        vertical-align: middle;\n",
       "    }\n",
       "\n",
       "    .dataframe tbody tr th {\n",
       "        vertical-align: top;\n",
       "    }\n",
       "\n",
       "    .dataframe thead th {\n",
       "        text-align: right;\n",
       "    }\n",
       "</style>\n",
       "<table border=\"1\" class=\"dataframe\">\n",
       "  <thead>\n",
       "    <tr style=\"text-align: right;\">\n",
       "      <th></th>\n",
       "      <th>reassignment_count</th>\n",
       "      <th>resolution_time_hours</th>\n",
       "      <th>ticket_count</th>\n",
       "    </tr>\n",
       "  </thead>\n",
       "  <tbody>\n",
       "    <tr>\n",
       "      <th>0</th>\n",
       "      <td>0</td>\n",
       "      <td>190.335962</td>\n",
       "      <td>69876</td>\n",
       "    </tr>\n",
       "    <tr>\n",
       "      <th>1</th>\n",
       "      <td>1</td>\n",
       "      <td>247.787212</td>\n",
       "      <td>37104</td>\n",
       "    </tr>\n",
       "    <tr>\n",
       "      <th>2</th>\n",
       "      <td>2</td>\n",
       "      <td>387.856941</td>\n",
       "      <td>15097</td>\n",
       "    </tr>\n",
       "    <tr>\n",
       "      <th>3</th>\n",
       "      <td>3</td>\n",
       "      <td>433.238939</td>\n",
       "      <td>8274</td>\n",
       "    </tr>\n",
       "    <tr>\n",
       "      <th>4</th>\n",
       "      <td>4</td>\n",
       "      <td>492.820380</td>\n",
       "      <td>4614</td>\n",
       "    </tr>\n",
       "    <tr>\n",
       "      <th>5</th>\n",
       "      <td>5</td>\n",
       "      <td>492.046609</td>\n",
       "      <td>2595</td>\n",
       "    </tr>\n",
       "    <tr>\n",
       "      <th>6</th>\n",
       "      <td>6</td>\n",
       "      <td>594.077194</td>\n",
       "      <td>1447</td>\n",
       "    </tr>\n",
       "    <tr>\n",
       "      <th>7</th>\n",
       "      <td>7</td>\n",
       "      <td>538.279662</td>\n",
       "      <td>985</td>\n",
       "    </tr>\n",
       "    <tr>\n",
       "      <th>8</th>\n",
       "      <td>8</td>\n",
       "      <td>587.185685</td>\n",
       "      <td>574</td>\n",
       "    </tr>\n",
       "    <tr>\n",
       "      <th>9</th>\n",
       "      <td>9</td>\n",
       "      <td>659.301826</td>\n",
       "      <td>365</td>\n",
       "    </tr>\n",
       "    <tr>\n",
       "      <th>10</th>\n",
       "      <td>10</td>\n",
       "      <td>600.794444</td>\n",
       "      <td>285</td>\n",
       "    </tr>\n",
       "    <tr>\n",
       "      <th>11</th>\n",
       "      <td>11</td>\n",
       "      <td>562.392146</td>\n",
       "      <td>174</td>\n",
       "    </tr>\n",
       "    <tr>\n",
       "      <th>12</th>\n",
       "      <td>12</td>\n",
       "      <td>687.624691</td>\n",
       "      <td>108</td>\n",
       "    </tr>\n",
       "    <tr>\n",
       "      <th>13</th>\n",
       "      <td>13</td>\n",
       "      <td>682.282787</td>\n",
       "      <td>61</td>\n",
       "    </tr>\n",
       "    <tr>\n",
       "      <th>14</th>\n",
       "      <td>14</td>\n",
       "      <td>760.881111</td>\n",
       "      <td>45</td>\n",
       "    </tr>\n",
       "    <tr>\n",
       "      <th>15</th>\n",
       "      <td>15</td>\n",
       "      <td>652.134921</td>\n",
       "      <td>21</td>\n",
       "    </tr>\n",
       "    <tr>\n",
       "      <th>16</th>\n",
       "      <td>16</td>\n",
       "      <td>864.703846</td>\n",
       "      <td>13</td>\n",
       "    </tr>\n",
       "    <tr>\n",
       "      <th>17</th>\n",
       "      <td>17</td>\n",
       "      <td>610.073958</td>\n",
       "      <td>16</td>\n",
       "    </tr>\n",
       "    <tr>\n",
       "      <th>18</th>\n",
       "      <td>18</td>\n",
       "      <td>1069.138462</td>\n",
       "      <td>13</td>\n",
       "    </tr>\n",
       "    <tr>\n",
       "      <th>19</th>\n",
       "      <td>19</td>\n",
       "      <td>706.214583</td>\n",
       "      <td>8</td>\n",
       "    </tr>\n",
       "    <tr>\n",
       "      <th>20</th>\n",
       "      <td>20</td>\n",
       "      <td>610.509375</td>\n",
       "      <td>16</td>\n",
       "    </tr>\n",
       "    <tr>\n",
       "      <th>21</th>\n",
       "      <td>21</td>\n",
       "      <td>872.988889</td>\n",
       "      <td>3</td>\n",
       "    </tr>\n",
       "    <tr>\n",
       "      <th>22</th>\n",
       "      <td>22</td>\n",
       "      <td>973.392593</td>\n",
       "      <td>9</td>\n",
       "    </tr>\n",
       "    <tr>\n",
       "      <th>23</th>\n",
       "      <td>23</td>\n",
       "      <td>1174.200000</td>\n",
       "      <td>2</td>\n",
       "    </tr>\n",
       "    <tr>\n",
       "      <th>24</th>\n",
       "      <td>24</td>\n",
       "      <td>1174.200000</td>\n",
       "      <td>1</td>\n",
       "    </tr>\n",
       "    <tr>\n",
       "      <th>25</th>\n",
       "      <td>25</td>\n",
       "      <td>1174.200000</td>\n",
       "      <td>1</td>\n",
       "    </tr>\n",
       "    <tr>\n",
       "      <th>26</th>\n",
       "      <td>26</td>\n",
       "      <td>1174.200000</td>\n",
       "      <td>2</td>\n",
       "    </tr>\n",
       "    <tr>\n",
       "      <th>27</th>\n",
       "      <td>27</td>\n",
       "      <td>1174.200000</td>\n",
       "      <td>3</td>\n",
       "    </tr>\n",
       "  </tbody>\n",
       "</table>\n",
       "</div>"
      ],
      "text/plain": [
       "    reassignment_count  resolution_time_hours  ticket_count\n",
       "0                    0             190.335962         69876\n",
       "1                    1             247.787212         37104\n",
       "2                    2             387.856941         15097\n",
       "3                    3             433.238939          8274\n",
       "4                    4             492.820380          4614\n",
       "5                    5             492.046609          2595\n",
       "6                    6             594.077194          1447\n",
       "7                    7             538.279662           985\n",
       "8                    8             587.185685           574\n",
       "9                    9             659.301826           365\n",
       "10                  10             600.794444           285\n",
       "11                  11             562.392146           174\n",
       "12                  12             687.624691           108\n",
       "13                  13             682.282787            61\n",
       "14                  14             760.881111            45\n",
       "15                  15             652.134921            21\n",
       "16                  16             864.703846            13\n",
       "17                  17             610.073958            16\n",
       "18                  18            1069.138462            13\n",
       "19                  19             706.214583             8\n",
       "20                  20             610.509375            16\n",
       "21                  21             872.988889             3\n",
       "22                  22             973.392593             9\n",
       "23                  23            1174.200000             2\n",
       "24                  24            1174.200000             1\n",
       "25                  25            1174.200000             1\n",
       "26                  26            1174.200000             2\n",
       "27                  27            1174.200000             3"
      ]
     },
     "execution_count": 28,
     "metadata": {},
     "output_type": "execute_result"
    }
   ],
   "source": [
    "penalty_table"
   ]
  },
  {
   "cell_type": "code",
   "execution_count": 29,
   "id": "a1bbe903",
   "metadata": {},
   "outputs": [
    {
     "name": "stdout",
     "output_type": "stream",
     "text": [
      "Original shape: (141712, 43)\n",
      "Filtered shape: (141216, 43)\n"
     ]
    }
   ],
   "source": [
    "# Drop rows with reassignment_count > 10\n",
    "df_filtered = df[df['reassignment_count'] <= 10].copy()\n",
    "\n",
    "# Optional: Reset the index\n",
    "df_filtered.reset_index(drop=True, inplace=True)\n",
    "\n",
    "# Quick check\n",
    "print(f\"Original shape: {df.shape}\")\n",
    "print(f\"Filtered shape: {df_filtered.shape}\")"
   ]
  },
  {
   "cell_type": "code",
   "execution_count": 30,
   "id": "24a7d5ee",
   "metadata": {},
   "outputs": [],
   "source": [
    "# Assuming your DataFrame is called df\n",
    "reassign_vs_time = df_filtered.groupby('reassignment_count')['resolution_time_hours'].mean().reset_index()\n",
    "reassign_vs_time.columns = ['reassignment_count', 'avg_resolution_time']"
   ]
  },
  {
   "cell_type": "code",
   "execution_count": 31,
   "id": "3d42766d",
   "metadata": {},
   "outputs": [
    {
     "data": {
      "text/html": [
       "<div>\n",
       "<style scoped>\n",
       "    .dataframe tbody tr th:only-of-type {\n",
       "        vertical-align: middle;\n",
       "    }\n",
       "\n",
       "    .dataframe tbody tr th {\n",
       "        vertical-align: top;\n",
       "    }\n",
       "\n",
       "    .dataframe thead th {\n",
       "        text-align: right;\n",
       "    }\n",
       "</style>\n",
       "<table border=\"1\" class=\"dataframe\">\n",
       "  <thead>\n",
       "    <tr style=\"text-align: right;\">\n",
       "      <th></th>\n",
       "      <th>reassignment_count</th>\n",
       "      <th>avg_resolution_time</th>\n",
       "    </tr>\n",
       "  </thead>\n",
       "  <tbody>\n",
       "    <tr>\n",
       "      <th>0</th>\n",
       "      <td>0</td>\n",
       "      <td>190.335962</td>\n",
       "    </tr>\n",
       "    <tr>\n",
       "      <th>1</th>\n",
       "      <td>1</td>\n",
       "      <td>247.787212</td>\n",
       "    </tr>\n",
       "    <tr>\n",
       "      <th>2</th>\n",
       "      <td>2</td>\n",
       "      <td>387.856941</td>\n",
       "    </tr>\n",
       "    <tr>\n",
       "      <th>3</th>\n",
       "      <td>3</td>\n",
       "      <td>433.238939</td>\n",
       "    </tr>\n",
       "    <tr>\n",
       "      <th>4</th>\n",
       "      <td>4</td>\n",
       "      <td>492.820380</td>\n",
       "    </tr>\n",
       "    <tr>\n",
       "      <th>5</th>\n",
       "      <td>5</td>\n",
       "      <td>492.046609</td>\n",
       "    </tr>\n",
       "    <tr>\n",
       "      <th>6</th>\n",
       "      <td>6</td>\n",
       "      <td>594.077194</td>\n",
       "    </tr>\n",
       "    <tr>\n",
       "      <th>7</th>\n",
       "      <td>7</td>\n",
       "      <td>538.279662</td>\n",
       "    </tr>\n",
       "    <tr>\n",
       "      <th>8</th>\n",
       "      <td>8</td>\n",
       "      <td>587.185685</td>\n",
       "    </tr>\n",
       "    <tr>\n",
       "      <th>9</th>\n",
       "      <td>9</td>\n",
       "      <td>659.301826</td>\n",
       "    </tr>\n",
       "    <tr>\n",
       "      <th>10</th>\n",
       "      <td>10</td>\n",
       "      <td>600.794444</td>\n",
       "    </tr>\n",
       "  </tbody>\n",
       "</table>\n",
       "</div>"
      ],
      "text/plain": [
       "    reassignment_count  avg_resolution_time\n",
       "0                    0           190.335962\n",
       "1                    1           247.787212\n",
       "2                    2           387.856941\n",
       "3                    3           433.238939\n",
       "4                    4           492.820380\n",
       "5                    5           492.046609\n",
       "6                    6           594.077194\n",
       "7                    7           538.279662\n",
       "8                    8           587.185685\n",
       "9                    9           659.301826\n",
       "10                  10           600.794444"
      ]
     },
     "execution_count": 31,
     "metadata": {},
     "output_type": "execute_result"
    }
   ],
   "source": [
    "reassign_vs_time"
   ]
  },
  {
   "cell_type": "code",
   "execution_count": 32,
   "id": "0d48b44b",
   "metadata": {},
   "outputs": [],
   "source": [
    "# Group by reassignment count and count tickets in each group\n",
    "count_per_group = df_filtered.groupby('reassignment_count').size().reset_index(name='ticket_count')\n",
    "\n",
    "# If you already have avg_resolution_time\n",
    "penalty_table = df_filtered.groupby('reassignment_count')['resolution_time_hours'].mean().reset_index()\n",
    "penalty_table = penalty_table.merge(count_per_group, on='reassignment_count')"
   ]
  },
  {
   "cell_type": "code",
   "execution_count": 33,
   "id": "46a428da",
   "metadata": {},
   "outputs": [
    {
     "data": {
      "text/html": [
       "<div>\n",
       "<style scoped>\n",
       "    .dataframe tbody tr th:only-of-type {\n",
       "        vertical-align: middle;\n",
       "    }\n",
       "\n",
       "    .dataframe tbody tr th {\n",
       "        vertical-align: top;\n",
       "    }\n",
       "\n",
       "    .dataframe thead th {\n",
       "        text-align: right;\n",
       "    }\n",
       "</style>\n",
       "<table border=\"1\" class=\"dataframe\">\n",
       "  <thead>\n",
       "    <tr style=\"text-align: right;\">\n",
       "      <th></th>\n",
       "      <th>reassignment_count</th>\n",
       "      <th>resolution_time_hours</th>\n",
       "      <th>ticket_count</th>\n",
       "    </tr>\n",
       "  </thead>\n",
       "  <tbody>\n",
       "    <tr>\n",
       "      <th>0</th>\n",
       "      <td>0</td>\n",
       "      <td>190.335962</td>\n",
       "      <td>69876</td>\n",
       "    </tr>\n",
       "    <tr>\n",
       "      <th>1</th>\n",
       "      <td>1</td>\n",
       "      <td>247.787212</td>\n",
       "      <td>37104</td>\n",
       "    </tr>\n",
       "    <tr>\n",
       "      <th>2</th>\n",
       "      <td>2</td>\n",
       "      <td>387.856941</td>\n",
       "      <td>15097</td>\n",
       "    </tr>\n",
       "    <tr>\n",
       "      <th>3</th>\n",
       "      <td>3</td>\n",
       "      <td>433.238939</td>\n",
       "      <td>8274</td>\n",
       "    </tr>\n",
       "    <tr>\n",
       "      <th>4</th>\n",
       "      <td>4</td>\n",
       "      <td>492.820380</td>\n",
       "      <td>4614</td>\n",
       "    </tr>\n",
       "    <tr>\n",
       "      <th>5</th>\n",
       "      <td>5</td>\n",
       "      <td>492.046609</td>\n",
       "      <td>2595</td>\n",
       "    </tr>\n",
       "    <tr>\n",
       "      <th>6</th>\n",
       "      <td>6</td>\n",
       "      <td>594.077194</td>\n",
       "      <td>1447</td>\n",
       "    </tr>\n",
       "    <tr>\n",
       "      <th>7</th>\n",
       "      <td>7</td>\n",
       "      <td>538.279662</td>\n",
       "      <td>985</td>\n",
       "    </tr>\n",
       "    <tr>\n",
       "      <th>8</th>\n",
       "      <td>8</td>\n",
       "      <td>587.185685</td>\n",
       "      <td>574</td>\n",
       "    </tr>\n",
       "    <tr>\n",
       "      <th>9</th>\n",
       "      <td>9</td>\n",
       "      <td>659.301826</td>\n",
       "      <td>365</td>\n",
       "    </tr>\n",
       "    <tr>\n",
       "      <th>10</th>\n",
       "      <td>10</td>\n",
       "      <td>600.794444</td>\n",
       "      <td>285</td>\n",
       "    </tr>\n",
       "  </tbody>\n",
       "</table>\n",
       "</div>"
      ],
      "text/plain": [
       "    reassignment_count  resolution_time_hours  ticket_count\n",
       "0                    0             190.335962         69876\n",
       "1                    1             247.787212         37104\n",
       "2                    2             387.856941         15097\n",
       "3                    3             433.238939          8274\n",
       "4                    4             492.820380          4614\n",
       "5                    5             492.046609          2595\n",
       "6                    6             594.077194          1447\n",
       "7                    7             538.279662           985\n",
       "8                    8             587.185685           574\n",
       "9                    9             659.301826           365\n",
       "10                  10             600.794444           285"
      ]
     },
     "execution_count": 33,
     "metadata": {},
     "output_type": "execute_result"
    }
   ],
   "source": [
    "penalty_table"
   ]
  },
  {
   "cell_type": "markdown",
   "id": "6375b736",
   "metadata": {},
   "source": [
    "### Penalty Calculation and Subtraction\n",
    "\n",
    "Here I look at the **penalties caused by reassignments**.  \n",
    "The idea is simple – every time a ticket gets reassigned, there’s wasted time (handover delays, waiting for the next group to pick it up, etc.).  \n",
    "\n",
    "So I calculate a `penalty_time` for each ticket based on its `reassignment_count`.  \n",
    "Then I compare that with the actual `resolution_time_hours`.  \n",
    "\n",
    "In some cases the **penalty itself is bigger than the useful work time**.  \n",
    "This tells me that delays are not coming from complexity, but from inefficiency and bounces between groups.\n",
    "\n",
    "I also subtract the penalty from the total resolution time to see what the “clean” resolution would have been if the ticket had been resolved without reassignments.  \n",
    "That gap shows me exactly how much time we lose only because of process issues.\n",
    "\n",
    "This analysis confirmed what I suspected earlier – **support engineers are not overloaded** (average load ~1–2 tickets per day), but the process is broken.  \n",
    "Tickets spend hours idle because of poor triage and repeated reassignments."
   ]
  },
  {
   "cell_type": "code",
   "execution_count": null,
   "id": "c4d0ff3f",
   "metadata": {},
   "outputs": [
    {
     "data": {
      "image/png": "[encoded data removed]",
      "text/plain": [
       "<Figure size 720x432 with 1 Axes>"
      ]
     },
     "metadata": {
      "needs_background": "light"
     },
     "output_type": "display_data"
    }
   ],
   "source": [
    "reassign_penalty_table = pd.DataFrame({\n",
    "    'reassignment_count': [0, 1, 2, 3, 4, 5, 6, 7, 8, 9, 10],\n",
    "    'resolution_time_hours': [190.33, 247.78, 387.85, 433.24, 492.82, 492.05,\n",
    "                              594.07, 538.27, 587.18, 659.30, 600.79]\n",
    "})\n",
    "\n",
    "# LOWESS smoothing\n",
    "lowess = sm.nonparametric.lowess\n",
    "smoothed = lowess(\n",
    "    endog=reassign_penalty_table['resolution_time_hours'],   # Y-axis\n",
    "    exog=reassign_penalty_table['reassignment_count'],       # X-axis\n",
    "    frac=0.6                                                  # Smoothing span (0.4–0.6 is usually good)\n",
    ")\n",
    "\n",
    "# Convert to numpy array\n",
    "smoothed_x = smoothed[:, 0]\n",
    "smoothed_y = smoothed[:, 1]\n",
    "\n",
    "# Plot original and smoothed trend\n",
    "plt.figure(figsize=(10, 6))\n",
    "plt.plot(reassign_penalty_table['reassignment_count'], reassign_penalty_table['resolution_time_hours'],\n",
    "         'o-', label='Original Avg Time', color='gray')\n",
    "plt.plot(smoothed_x, smoothed_y, 'r-', label='Smoothed Trend (LOWESS)', linewidth=2)\n",
    "plt.title('Smoothed Resolution Time vs Reassignment Count')\n",
    "plt.xlabel('Reassignment Count')\n",
    "plt.ylabel('Avg Resolution Time (Hours)')\n",
    "plt.grid(True)\n",
    "plt.legend()\n",
    "plt.tight_layout()\n",
    "plt.show()"
   ]
  },
  {
   "cell_type": "code",
   "execution_count": null,
   "id": "ee0b1064",
   "metadata": {},
   "outputs": [
    {
     "name": "stdout",
     "output_type": "stream",
     "text": [
      "   from_reassignment  to_reassignment  estimated_delay_added\n",
      "0                  0                1                  85.44\n",
      "1                  1                2                  82.75\n",
      "2                  2                3                  70.47\n",
      "3                  3                4                  52.24\n",
      "4                  4                5                  38.22\n",
      "5                  5                6                  24.72\n",
      "6                  6                7                  29.68\n",
      "7                  7                8                  23.02\n",
      "8                  8                9                  15.92\n",
      "9                  9               10                  17.55\n"
     ]
    }
   ],
   "source": [
    "# smoothed_y is your LOWESS result's y-values\n",
    "# smoothed_x is reassignment count (0–10)\n",
    "\n",
    "# Convert to pandas series (optional, for naming)\n",
    "smoothed_penalty = pd.Series(smoothed_y, index=smoothed_x).sort_index()\n",
    "\n",
    "# Calculate penalty per reassignment step\n",
    "penalty_deltas = smoothed_penalty.diff().dropna().round(2)\n",
    "\n",
    "# Optional: Format as DataFrame\n",
    "penalty_table = pd.DataFrame({\n",
    "    'from_reassignment': penalty_deltas.index.astype(int) - 1,\n",
    "    'to_reassignment': penalty_deltas.index.astype(int),\n",
    "    'estimated_delay_added': penalty_deltas.values\n",
    "})\n",
    "\n",
    "print(penalty_table)\n"
   ]
  },
  {
   "cell_type": "code",
   "execution_count": 36,
   "id": "af4429a8",
   "metadata": {},
   "outputs": [],
   "source": [
    "df['opened_date'] = df['opened_at'].dt.date\n",
    "tickets_per_day = df.groupby('opened_date').size().reset_index(name='ticket_count')"
   ]
  },
  {
   "cell_type": "code",
   "execution_count": 37,
   "id": "d0bfef13",
   "metadata": {},
   "outputs": [
    {
     "data": {
      "text/html": [
       "<div>\n",
       "<style scoped>\n",
       "    .dataframe tbody tr th:only-of-type {\n",
       "        vertical-align: middle;\n",
       "    }\n",
       "\n",
       "    .dataframe tbody tr th {\n",
       "        vertical-align: top;\n",
       "    }\n",
       "\n",
       "    .dataframe thead th {\n",
       "        text-align: right;\n",
       "    }\n",
       "</style>\n",
       "<table border=\"1\" class=\"dataframe\">\n",
       "  <thead>\n",
       "    <tr style=\"text-align: right;\">\n",
       "      <th></th>\n",
       "      <th>opened_date</th>\n",
       "      <th>ticket_count</th>\n",
       "    </tr>\n",
       "  </thead>\n",
       "  <tbody>\n",
       "    <tr>\n",
       "      <th>0</th>\n",
       "      <td>2016-02-29</td>\n",
       "      <td>1342</td>\n",
       "    </tr>\n",
       "    <tr>\n",
       "      <th>1</th>\n",
       "      <td>2016-03-01</td>\n",
       "      <td>2198</td>\n",
       "    </tr>\n",
       "    <tr>\n",
       "      <th>2</th>\n",
       "      <td>2016-03-02</td>\n",
       "      <td>3168</td>\n",
       "    </tr>\n",
       "    <tr>\n",
       "      <th>3</th>\n",
       "      <td>2016-03-03</td>\n",
       "      <td>2826</td>\n",
       "    </tr>\n",
       "    <tr>\n",
       "      <th>4</th>\n",
       "      <td>2016-03-04</td>\n",
       "      <td>2836</td>\n",
       "    </tr>\n",
       "    <tr>\n",
       "      <th>...</th>\n",
       "      <td>...</td>\n",
       "      <td>...</td>\n",
       "    </tr>\n",
       "    <tr>\n",
       "      <th>202</th>\n",
       "      <td>2017-02-10</td>\n",
       "      <td>29</td>\n",
       "    </tr>\n",
       "    <tr>\n",
       "      <th>203</th>\n",
       "      <td>2017-02-13</td>\n",
       "      <td>15</td>\n",
       "    </tr>\n",
       "    <tr>\n",
       "      <th>204</th>\n",
       "      <td>2017-02-14</td>\n",
       "      <td>6</td>\n",
       "    </tr>\n",
       "    <tr>\n",
       "      <th>205</th>\n",
       "      <td>2017-02-15</td>\n",
       "      <td>13</td>\n",
       "    </tr>\n",
       "    <tr>\n",
       "      <th>206</th>\n",
       "      <td>2017-02-16</td>\n",
       "      <td>8</td>\n",
       "    </tr>\n",
       "  </tbody>\n",
       "</table>\n",
       "<p>207 rows × 2 columns</p>\n",
       "</div>"
      ],
      "text/plain": [
       "    opened_date  ticket_count\n",
       "0    2016-02-29          1342\n",
       "1    2016-03-01          2198\n",
       "2    2016-03-02          3168\n",
       "3    2016-03-03          2826\n",
       "4    2016-03-04          2836\n",
       "..          ...           ...\n",
       "202  2017-02-10            29\n",
       "203  2017-02-13            15\n",
       "204  2017-02-14             6\n",
       "205  2017-02-15            13\n",
       "206  2017-02-16             8\n",
       "\n",
       "[207 rows x 2 columns]"
      ]
     },
     "execution_count": 37,
     "metadata": {},
     "output_type": "execute_result"
    }
   ],
   "source": [
    "tickets_per_day"
   ]
  },
  {
   "cell_type": "code",
   "execution_count": 38,
   "id": "417e6158",
   "metadata": {},
   "outputs": [
    {
     "data": {
      "text/html": [
       "<div>\n",
       "<style scoped>\n",
       "    .dataframe tbody tr th:only-of-type {\n",
       "        vertical-align: middle;\n",
       "    }\n",
       "\n",
       "    .dataframe tbody tr th {\n",
       "        vertical-align: top;\n",
       "    }\n",
       "\n",
       "    .dataframe thead th {\n",
       "        text-align: right;\n",
       "    }\n",
       "</style>\n",
       "<table border=\"1\" class=\"dataframe\">\n",
       "  <thead>\n",
       "    <tr style=\"text-align: right;\">\n",
       "      <th></th>\n",
       "      <th>assignment_group</th>\n",
       "      <th>ticket_count</th>\n",
       "    </tr>\n",
       "  </thead>\n",
       "  <tbody>\n",
       "    <tr>\n",
       "      <th>0</th>\n",
       "      <td>Group 70</td>\n",
       "      <td>43474</td>\n",
       "    </tr>\n",
       "    <tr>\n",
       "      <th>1</th>\n",
       "      <td>?</td>\n",
       "      <td>14213</td>\n",
       "    </tr>\n",
       "    <tr>\n",
       "      <th>2</th>\n",
       "      <td>Group 25</td>\n",
       "      <td>7679</td>\n",
       "    </tr>\n",
       "    <tr>\n",
       "      <th>3</th>\n",
       "      <td>Group 24</td>\n",
       "      <td>6752</td>\n",
       "    </tr>\n",
       "    <tr>\n",
       "      <th>4</th>\n",
       "      <td>Group 20</td>\n",
       "      <td>6170</td>\n",
       "    </tr>\n",
       "    <tr>\n",
       "      <th>...</th>\n",
       "      <td>...</td>\n",
       "      <td>...</td>\n",
       "    </tr>\n",
       "    <tr>\n",
       "      <th>74</th>\n",
       "      <td>Group 41</td>\n",
       "      <td>3</td>\n",
       "    </tr>\n",
       "    <tr>\n",
       "      <th>75</th>\n",
       "      <td>Group 38</td>\n",
       "      <td>2</td>\n",
       "    </tr>\n",
       "    <tr>\n",
       "      <th>76</th>\n",
       "      <td>Group 11</td>\n",
       "      <td>1</td>\n",
       "    </tr>\n",
       "    <tr>\n",
       "      <th>77</th>\n",
       "      <td>Group 4</td>\n",
       "      <td>1</td>\n",
       "    </tr>\n",
       "    <tr>\n",
       "      <th>78</th>\n",
       "      <td>Group 16</td>\n",
       "      <td>1</td>\n",
       "    </tr>\n",
       "  </tbody>\n",
       "</table>\n",
       "<p>79 rows × 2 columns</p>\n",
       "</div>"
      ],
      "text/plain": [
       "   assignment_group  ticket_count\n",
       "0          Group 70         43474\n",
       "1                 ?         14213\n",
       "2          Group 25          7679\n",
       "3          Group 24          6752\n",
       "4          Group 20          6170\n",
       "..              ...           ...\n",
       "74         Group 41             3\n",
       "75         Group 38             2\n",
       "76         Group 11             1\n",
       "77          Group 4             1\n",
       "78         Group 16             1\n",
       "\n",
       "[79 rows x 2 columns]"
      ]
     },
     "execution_count": 38,
     "metadata": {},
     "output_type": "execute_result"
    }
   ],
   "source": [
    "tickets_per_group = df['assignment_group'].value_counts().reset_index()\n",
    "tickets_per_group.columns = ['assignment_group', 'ticket_count']\n",
    "tickets_per_group"
   ]
  },
  {
   "cell_type": "code",
   "execution_count": 39,
   "id": "d410287f",
   "metadata": {},
   "outputs": [
    {
     "data": {
      "text/html": [
       "<div>\n",
       "<style scoped>\n",
       "    .dataframe tbody tr th:only-of-type {\n",
       "        vertical-align: middle;\n",
       "    }\n",
       "\n",
       "    .dataframe tbody tr th {\n",
       "        vertical-align: top;\n",
       "    }\n",
       "\n",
       "    .dataframe thead th {\n",
       "        text-align: right;\n",
       "    }\n",
       "</style>\n",
       "<table border=\"1\" class=\"dataframe\">\n",
       "  <thead>\n",
       "    <tr style=\"text-align: right;\">\n",
       "      <th></th>\n",
       "      <th>assignment_group</th>\n",
       "      <th>unique_members</th>\n",
       "    </tr>\n",
       "  </thead>\n",
       "  <tbody>\n",
       "    <tr>\n",
       "      <th>0</th>\n",
       "      <td>?</td>\n",
       "      <td>127</td>\n",
       "    </tr>\n",
       "    <tr>\n",
       "      <th>1</th>\n",
       "      <td>Group 10</td>\n",
       "      <td>54</td>\n",
       "    </tr>\n",
       "    <tr>\n",
       "      <th>2</th>\n",
       "      <td>Group 11</td>\n",
       "      <td>1</td>\n",
       "    </tr>\n",
       "    <tr>\n",
       "      <th>3</th>\n",
       "      <td>Group 12</td>\n",
       "      <td>46</td>\n",
       "    </tr>\n",
       "    <tr>\n",
       "      <th>4</th>\n",
       "      <td>Group 13</td>\n",
       "      <td>6</td>\n",
       "    </tr>\n",
       "    <tr>\n",
       "      <th>...</th>\n",
       "      <td>...</td>\n",
       "      <td>...</td>\n",
       "    </tr>\n",
       "    <tr>\n",
       "      <th>74</th>\n",
       "      <td>Group 8</td>\n",
       "      <td>2</td>\n",
       "    </tr>\n",
       "    <tr>\n",
       "      <th>75</th>\n",
       "      <td>Group 80</td>\n",
       "      <td>6</td>\n",
       "    </tr>\n",
       "    <tr>\n",
       "      <th>76</th>\n",
       "      <td>Group 81</td>\n",
       "      <td>6</td>\n",
       "    </tr>\n",
       "    <tr>\n",
       "      <th>77</th>\n",
       "      <td>Group 82</td>\n",
       "      <td>16</td>\n",
       "    </tr>\n",
       "    <tr>\n",
       "      <th>78</th>\n",
       "      <td>Group 9</td>\n",
       "      <td>50</td>\n",
       "    </tr>\n",
       "  </tbody>\n",
       "</table>\n",
       "<p>79 rows × 2 columns</p>\n",
       "</div>"
      ],
      "text/plain": [
       "   assignment_group  unique_members\n",
       "0                 ?             127\n",
       "1          Group 10              54\n",
       "2          Group 11               1\n",
       "3          Group 12              46\n",
       "4          Group 13               6\n",
       "..              ...             ...\n",
       "74          Group 8               2\n",
       "75         Group 80               6\n",
       "76         Group 81               6\n",
       "77         Group 82              16\n",
       "78          Group 9              50\n",
       "\n",
       "[79 rows x 2 columns]"
      ]
     },
     "execution_count": 39,
     "metadata": {},
     "output_type": "execute_result"
    }
   ],
   "source": [
    "group_members = df.groupby('assignment_group')['resolved_by'].nunique().reset_index()\n",
    "group_members.columns = ['assignment_group', 'unique_members']\n",
    "group_members"
   ]
  },
  {
   "cell_type": "code",
   "execution_count": 40,
   "id": "83739f74",
   "metadata": {},
   "outputs": [
    {
     "data": {
      "text/html": [
       "<div>\n",
       "<style scoped>\n",
       "    .dataframe tbody tr th:only-of-type {\n",
       "        vertical-align: middle;\n",
       "    }\n",
       "\n",
       "    .dataframe tbody tr th {\n",
       "        vertical-align: top;\n",
       "    }\n",
       "\n",
       "    .dataframe thead th {\n",
       "        text-align: right;\n",
       "    }\n",
       "</style>\n",
       "<table border=\"1\" class=\"dataframe\">\n",
       "  <thead>\n",
       "    <tr style=\"text-align: right;\">\n",
       "      <th></th>\n",
       "      <th>assignment_group</th>\n",
       "      <th>ticket_count</th>\n",
       "      <th>unique_members</th>\n",
       "      <th>daily_tickets</th>\n",
       "      <th>tickets_per_member_per_day</th>\n",
       "    </tr>\n",
       "  </thead>\n",
       "  <tbody>\n",
       "    <tr>\n",
       "      <th>0</th>\n",
       "      <td>Group 70</td>\n",
       "      <td>43474</td>\n",
       "      <td>191</td>\n",
       "      <td>210.019324</td>\n",
       "      <td>1.099578</td>\n",
       "    </tr>\n",
       "    <tr>\n",
       "      <th>1</th>\n",
       "      <td>?</td>\n",
       "      <td>14213</td>\n",
       "      <td>127</td>\n",
       "      <td>68.661836</td>\n",
       "      <td>0.540644</td>\n",
       "    </tr>\n",
       "    <tr>\n",
       "      <th>2</th>\n",
       "      <td>Group 25</td>\n",
       "      <td>7679</td>\n",
       "      <td>76</td>\n",
       "      <td>37.096618</td>\n",
       "      <td>0.488113</td>\n",
       "    </tr>\n",
       "    <tr>\n",
       "      <th>3</th>\n",
       "      <td>Group 27</td>\n",
       "      <td>3817</td>\n",
       "      <td>40</td>\n",
       "      <td>18.439614</td>\n",
       "      <td>0.460990</td>\n",
       "    </tr>\n",
       "    <tr>\n",
       "      <th>4</th>\n",
       "      <td>Group 24</td>\n",
       "      <td>6752</td>\n",
       "      <td>72</td>\n",
       "      <td>32.618357</td>\n",
       "      <td>0.453033</td>\n",
       "    </tr>\n",
       "    <tr>\n",
       "      <th>...</th>\n",
       "      <td>...</td>\n",
       "      <td>...</td>\n",
       "      <td>...</td>\n",
       "      <td>...</td>\n",
       "      <td>...</td>\n",
       "    </tr>\n",
       "    <tr>\n",
       "      <th>74</th>\n",
       "      <td>Group 38</td>\n",
       "      <td>2</td>\n",
       "      <td>1</td>\n",
       "      <td>0.009662</td>\n",
       "      <td>0.009662</td>\n",
       "    </tr>\n",
       "    <tr>\n",
       "      <th>75</th>\n",
       "      <td>Group 79</td>\n",
       "      <td>9</td>\n",
       "      <td>7</td>\n",
       "      <td>0.043478</td>\n",
       "      <td>0.006211</td>\n",
       "    </tr>\n",
       "    <tr>\n",
       "      <th>76</th>\n",
       "      <td>Group 11</td>\n",
       "      <td>1</td>\n",
       "      <td>1</td>\n",
       "      <td>0.004831</td>\n",
       "      <td>0.004831</td>\n",
       "    </tr>\n",
       "    <tr>\n",
       "      <th>77</th>\n",
       "      <td>Group 4</td>\n",
       "      <td>1</td>\n",
       "      <td>1</td>\n",
       "      <td>0.004831</td>\n",
       "      <td>0.004831</td>\n",
       "    </tr>\n",
       "    <tr>\n",
       "      <th>78</th>\n",
       "      <td>Group 16</td>\n",
       "      <td>1</td>\n",
       "      <td>1</td>\n",
       "      <td>0.004831</td>\n",
       "      <td>0.004831</td>\n",
       "    </tr>\n",
       "  </tbody>\n",
       "</table>\n",
       "<p>79 rows × 5 columns</p>\n",
       "</div>"
      ],
      "text/plain": [
       "   assignment_group  ticket_count  unique_members  daily_tickets  \\\n",
       "0          Group 70         43474             191     210.019324   \n",
       "1                 ?         14213             127      68.661836   \n",
       "2          Group 25          7679              76      37.096618   \n",
       "3          Group 27          3817              40      18.439614   \n",
       "4          Group 24          6752              72      32.618357   \n",
       "..              ...           ...             ...            ...   \n",
       "74         Group 38             2               1       0.009662   \n",
       "75         Group 79             9               7       0.043478   \n",
       "76         Group 11             1               1       0.004831   \n",
       "77          Group 4             1               1       0.004831   \n",
       "78         Group 16             1               1       0.004831   \n",
       "\n",
       "    tickets_per_member_per_day  \n",
       "0                     1.099578  \n",
       "1                     0.540644  \n",
       "2                     0.488113  \n",
       "3                     0.460990  \n",
       "4                     0.453033  \n",
       "..                         ...  \n",
       "74                    0.009662  \n",
       "75                    0.006211  \n",
       "76                    0.004831  \n",
       "77                    0.004831  \n",
       "78                    0.004831  \n",
       "\n",
       "[79 rows x 5 columns]"
      ]
     },
     "execution_count": 40,
     "metadata": {},
     "output_type": "execute_result"
    }
   ],
   "source": [
    "# Merge both\n",
    "group_load = tickets_per_group.merge(group_members, on='assignment_group')\n",
    "\n",
    "# Daily tickets per group\n",
    "group_load['daily_tickets'] = group_load['ticket_count'] / 207\n",
    "\n",
    "# Daily tickets per member\n",
    "group_load['tickets_per_member_per_day'] = group_load['daily_tickets'] / group_load['unique_members']\n",
    "\n",
    "# Display final table\n",
    "group_load = group_load.sort_values(by='tickets_per_member_per_day', ascending=False).reset_index(drop=True)\n",
    "group_load"
   ]
  },
  {
   "cell_type": "code",
   "execution_count": 41,
   "id": "bf41d9dd",
   "metadata": {
    "scrolled": true
   },
   "outputs": [
    {
     "data": {
      "image/png": "[encoded data removed]",
      "text/plain": [
       "<Figure size 864x432 with 1 Axes>"
      ]
     },
     "metadata": {
      "needs_background": "light"
     },
     "output_type": "display_data"
    }
   ],
   "source": [
    "import matplotlib.pyplot as plt\n",
    "import seaborn as sns\n",
    "\n",
    "# Sort for cleaner visualization (highest load on top)\n",
    "group_load_sorted = group_load.sort_values(by='tickets_per_member_per_day', ascending=False)\n",
    "\n",
    "# Plotting the graph\n",
    "plt.figure(figsize=(12, 6))\n",
    "sns.barplot(data=group_load_sorted, x='assignment_group', y='tickets_per_member_per_day', palette='coolwarm')\n",
    "\n",
    "plt.title('Average Daily Ticket Load per Member in Each Assignment Group')\n",
    "plt.xlabel('Assignment Group')\n",
    "plt.ylabel('Tickets per Member per Day')\n",
    "plt.xticks(rotation=45)\n",
    "plt.grid(axis='y', linestyle='--', alpha=0.6)\n",
    "plt.tight_layout()\n",
    "plt.show()"
   ]
  },
  {
   "cell_type": "markdown",
   "id": "a47c3ffe",
   "metadata": {},
   "source": [
    "But here’s the surprising part – when I check at the **per-engineer ticket load**, I find that most people are handling **only 1 ticket per day on average**.  \n",
    "This means it’s not about capacity or workload. Engineers are not drowning in tickets.  \n",
    "\n",
    "Still, tickets are sitting untouched for **15–20 hours** before any action is taken.  \n",
    "That shows the delay is coming from **process inefficiency** – either poor prioritisation, late triage, or just weak discipline around SLAs.  \n",
    "\n",
    "So it’s not “we need more staff,” it’s **“we need better process control and accountability.”**\n",
    "\n",
    "Despite a manageable average of 1–2 tickets per engineer per day, most tickets sit untouched for 15–20 hours after assignment. This delay is systemic and not caused by excessive load — indicating operational inefficiency, poor prioritization, or lack of SLA enforcement."
   ]
  },
  {
   "cell_type": "code",
   "execution_count": null,
   "id": "d35c6deb",
   "metadata": {},
   "outputs": [
    {
     "data": {
      "text/html": [
       "<div>\n",
       "<style scoped>\n",
       "    .dataframe tbody tr th:only-of-type {\n",
       "        vertical-align: middle;\n",
       "    }\n",
       "\n",
       "    .dataframe tbody tr th {\n",
       "        vertical-align: top;\n",
       "    }\n",
       "\n",
       "    .dataframe thead th {\n",
       "        text-align: right;\n",
       "    }\n",
       "</style>\n",
       "<table border=\"1\" class=\"dataframe\">\n",
       "  <thead>\n",
       "    <tr style=\"text-align: right;\">\n",
       "      <th></th>\n",
       "      <th>reassignment_count</th>\n",
       "      <th>resolution_time_hours</th>\n",
       "      <th>penalty_hours</th>\n",
       "      <th>true_resolution_time</th>\n",
       "    </tr>\n",
       "  </thead>\n",
       "  <tbody>\n",
       "    <tr>\n",
       "      <th>0</th>\n",
       "      <td>0</td>\n",
       "      <td>10.216667</td>\n",
       "      <td>0.0</td>\n",
       "      <td>10.216667</td>\n",
       "    </tr>\n",
       "    <tr>\n",
       "      <th>1</th>\n",
       "      <td>0</td>\n",
       "      <td>10.216667</td>\n",
       "      <td>0.0</td>\n",
       "      <td>10.216667</td>\n",
       "    </tr>\n",
       "    <tr>\n",
       "      <th>2</th>\n",
       "      <td>0</td>\n",
       "      <td>10.216667</td>\n",
       "      <td>0.0</td>\n",
       "      <td>10.216667</td>\n",
       "    </tr>\n",
       "    <tr>\n",
       "      <th>3</th>\n",
       "      <td>0</td>\n",
       "      <td>10.216667</td>\n",
       "      <td>0.0</td>\n",
       "      <td>10.216667</td>\n",
       "    </tr>\n",
       "    <tr>\n",
       "      <th>4</th>\n",
       "      <td>0</td>\n",
       "      <td>29.200000</td>\n",
       "      <td>0.0</td>\n",
       "      <td>29.200000</td>\n",
       "    </tr>\n",
       "  </tbody>\n",
       "</table>\n",
       "</div>"
      ],
      "text/plain": [
       "   reassignment_count  resolution_time_hours  penalty_hours  \\\n",
       "0                   0              10.216667            0.0   \n",
       "1                   0              10.216667            0.0   \n",
       "2                   0              10.216667            0.0   \n",
       "3                   0              10.216667            0.0   \n",
       "4                   0              29.200000            0.0   \n",
       "\n",
       "   true_resolution_time  \n",
       "0             10.216667  \n",
       "1             10.216667  \n",
       "2             10.216667  \n",
       "3             10.216667  \n",
       "4             29.200000  "
      ]
     },
     "execution_count": 42,
     "metadata": {},
     "output_type": "execute_result"
    }
   ],
   "source": [
    "# Define penalty values per reassignment step\n",
    "penalty_values = {\n",
    "    1: 85.44,\n",
    "    2: 82.75,\n",
    "    3: 70.47,\n",
    "    4: 52.24,\n",
    "    5: 38.22,\n",
    "    6: 24.72,\n",
    "    7: 29.68,\n",
    "    8: 23.02,\n",
    "    9: 15.92,\n",
    "    10: 17.55\n",
    "}\n",
    "\n",
    "# Function to calculate total penalty for a given reassignment count\n",
    "def calculate_total_penalty(count):\n",
    "    penalty = 0\n",
    "    for i in range(1, min(count, 10) + 1):\n",
    "        penalty += penalty_values.get(i, 0)\n",
    "    return penalty\n",
    "\n",
    "# Apply the function to each row\n",
    "df_filtered['penalty_hours'] = df_filtered['reassignment_count'].apply(calculate_total_penalty)\n",
    "\n",
    "# New logic: subtract penalty only if it's less than resolution_time_hours\n",
    "def calculate_true_time(row):\n",
    "    if row['resolution_time_hours'] >= row['penalty_hours']:\n",
    "        return row['resolution_time_hours'] - row['penalty_hours']\n",
    "    else:\n",
    "        return row['resolution_time_hours']\n",
    "\n",
    "df_filtered['true_resolution_time'] = df_filtered.apply(calculate_true_time, axis=1)\n",
    "\n",
    "# Preview\n",
    "df_filtered[['reassignment_count', 'resolution_time_hours', 'penalty_hours', 'true_resolution_time']].head()\n"
   ]
  },
  {
   "cell_type": "code",
   "execution_count": 43,
   "id": "88eae8a6",
   "metadata": {},
   "outputs": [],
   "source": [
    "df_filtered.to_csv('cleaned_resolution_time.csv', index=False)"
   ]
  },
  {
   "cell_type": "code",
   "execution_count": 44,
   "id": "36cb18e1",
   "metadata": {},
   "outputs": [
    {
     "data": {
      "text/html": [
       "<div>\n",
       "<style scoped>\n",
       "    .dataframe tbody tr th:only-of-type {\n",
       "        vertical-align: middle;\n",
       "    }\n",
       "\n",
       "    .dataframe tbody tr th {\n",
       "        vertical-align: top;\n",
       "    }\n",
       "\n",
       "    .dataframe thead th {\n",
       "        text-align: right;\n",
       "    }\n",
       "</style>\n",
       "<table border=\"1\" class=\"dataframe\">\n",
       "  <thead>\n",
       "    <tr style=\"text-align: right;\">\n",
       "      <th></th>\n",
       "      <th>reassignment_count</th>\n",
       "      <th>resolution_time_hours</th>\n",
       "      <th>penalty_hours</th>\n",
       "    </tr>\n",
       "  </thead>\n",
       "  <tbody>\n",
       "    <tr>\n",
       "      <th>5</th>\n",
       "      <td>1</td>\n",
       "      <td>29.200000</td>\n",
       "      <td>85.44</td>\n",
       "    </tr>\n",
       "    <tr>\n",
       "      <th>6</th>\n",
       "      <td>1</td>\n",
       "      <td>29.200000</td>\n",
       "      <td>85.44</td>\n",
       "    </tr>\n",
       "    <tr>\n",
       "      <th>7</th>\n",
       "      <td>1</td>\n",
       "      <td>29.200000</td>\n",
       "      <td>85.44</td>\n",
       "    </tr>\n",
       "    <tr>\n",
       "      <th>8</th>\n",
       "      <td>1</td>\n",
       "      <td>29.200000</td>\n",
       "      <td>85.44</td>\n",
       "    </tr>\n",
       "    <tr>\n",
       "      <th>9</th>\n",
       "      <td>1</td>\n",
       "      <td>29.200000</td>\n",
       "      <td>85.44</td>\n",
       "    </tr>\n",
       "    <tr>\n",
       "      <th>...</th>\n",
       "      <td>...</td>\n",
       "      <td>...</td>\n",
       "      <td>...</td>\n",
       "    </tr>\n",
       "    <tr>\n",
       "      <th>141210</th>\n",
       "      <td>1</td>\n",
       "      <td>0.733333</td>\n",
       "      <td>85.44</td>\n",
       "    </tr>\n",
       "    <tr>\n",
       "      <th>141211</th>\n",
       "      <td>1</td>\n",
       "      <td>0.733333</td>\n",
       "      <td>85.44</td>\n",
       "    </tr>\n",
       "    <tr>\n",
       "      <th>141213</th>\n",
       "      <td>1</td>\n",
       "      <td>2.350000</td>\n",
       "      <td>85.44</td>\n",
       "    </tr>\n",
       "    <tr>\n",
       "      <th>141214</th>\n",
       "      <td>1</td>\n",
       "      <td>2.350000</td>\n",
       "      <td>85.44</td>\n",
       "    </tr>\n",
       "    <tr>\n",
       "      <th>141215</th>\n",
       "      <td>1</td>\n",
       "      <td>2.350000</td>\n",
       "      <td>85.44</td>\n",
       "    </tr>\n",
       "  </tbody>\n",
       "</table>\n",
       "<p>37106 rows × 3 columns</p>\n",
       "</div>"
      ],
      "text/plain": [
       "        reassignment_count  resolution_time_hours  penalty_hours\n",
       "5                        1              29.200000          85.44\n",
       "6                        1              29.200000          85.44\n",
       "7                        1              29.200000          85.44\n",
       "8                        1              29.200000          85.44\n",
       "9                        1              29.200000          85.44\n",
       "...                    ...                    ...            ...\n",
       "141210                   1               0.733333          85.44\n",
       "141211                   1               0.733333          85.44\n",
       "141213                   1               2.350000          85.44\n",
       "141214                   1               2.350000          85.44\n",
       "141215                   1               2.350000          85.44\n",
       "\n",
       "[37106 rows x 3 columns]"
      ]
     },
     "execution_count": 44,
     "metadata": {},
     "output_type": "execute_result"
    }
   ],
   "source": [
    "# Filter tickets where resolution time is less than penalty\n",
    "penalty_exceeds_time = df_filtered[df_filtered['resolution_time_hours'] < df_filtered['penalty_hours']]\n",
    "\n",
    "# Display the result\n",
    "penalty_exceeds_time[['reassignment_count', 'resolution_time_hours', 'penalty_hours']]\n"
   ]
  },
  {
   "cell_type": "code",
   "execution_count": 45,
   "id": "210bcdcc",
   "metadata": {},
   "outputs": [
    {
     "name": "stdout",
     "output_type": "stream",
     "text": [
      "1     18327\n",
      "2      8033\n",
      "3      4689\n",
      "4      2657\n",
      "5      1527\n",
      "6       779\n",
      "7       546\n",
      "8       284\n",
      "9       171\n",
      "10       93\n",
      "Name: reassignment_count, dtype: int64\n",
      "1     49.39\n",
      "2     21.65\n",
      "3     12.64\n",
      "4      7.16\n",
      "5      4.12\n",
      "6      2.10\n",
      "7      1.47\n",
      "8      0.77\n",
      "9      0.46\n",
      "10     0.25\n",
      "Name: reassignment_count, dtype: float64\n"
     ]
    }
   ],
   "source": [
    "# Count how many from each reassignment_count where penalty > resolution time\n",
    "penalty_exceeds_counts = penalty_exceeds_time['reassignment_count'].value_counts().sort_index()\n",
    "\n",
    "# Display nicely\n",
    "print(penalty_exceeds_counts)\n",
    "percentage_distribution = (penalty_exceeds_counts / len(penalty_exceeds_time) * 100).round(2)\n",
    "print(percentage_distribution)\n"
   ]
  },
  {
   "cell_type": "markdown",
   "id": "76dc10fe",
   "metadata": {},
   "source": [
    "Breakdown of Tickets Where Penalty > Resolution Time\n",
    "\n",
    "| Reassignment Count | Ticket Count | % of Such Cases |\n",
    "| ------------------ | ------------ | --------------- |\n",
    "| 1                  | 18,327       | **49.39%**      |\n",
    "| 2                  | 8,033        | 21.65%          |\n",
    "| 3                  | 4,689        | 12.64%          |\n",
    "| 4                  | 2,657        | 7.16%           |\n",
    "| 5                  | 1,527        | 4.12%           |\n",
    "| 6                  | 779          | 2.10%           |\n",
    "| 7                  | 546          | 1.47%           |\n",
    "| 8                  | 284          | 0.77%           |\n",
    "| 9                  | 171          | 0.46%           |\n",
    "| 10                 | 93           | 0.25%           |\n",
    "\n",
    "\n",
    "Nearly half of all tickets where resolution time was less than the penalty estimate had just 1 reassignment.\n",
    "\n",
    "This suggests that for many tickets, reassignment didn’t actually add significant delay, especially at lower counts.\n",
    "\n",
    "Meaning → We shouldn't blindly penalize every reassignment, especially at the lower counts — this reinforces your earlier insight that conditional logic or contextual weighting may be needed.\n",
    "\n",
    "You just discovered that in ~37,000+ tickets, the reassignment penalty overestimated the real delay — and in nearly 50% of those cases, it was just 1 reassignment.\n",
    "\n",
    "So now...\n",
    "1. Reassignment Count Is Not Always the Villain\n",
    "Reassignment count might correlate with higher resolution time,\n",
    "but it doesn't cause it in every case — especially at lower values.\n",
    "\n",
    "This means:\n",
    "\n",
    "Reassignment is a weak predictor on its own.\n",
    "\n",
    "Its impact is conditional — maybe only matters after 3+, or when mixed with other features.\n",
    "\n"
   ]
  },
  {
   "cell_type": "markdown",
   "id": "d1528921",
   "metadata": {},
   "source": [
    "### Feature Engineering"
   ]
  },
  {
   "cell_type": "code",
   "execution_count": null,
   "id": "26ae4213",
   "metadata": {},
   "outputs": [
    {
     "data": {
      "image/png": "[encoded data removed]",
      "text/plain": [
       "<Figure size 720x432 with 1 Axes>"
      ]
     },
     "metadata": {
      "needs_background": "light"
     },
     "output_type": "display_data"
    }
   ],
   "source": [
    "# Load your cleaned CSV\n",
    "df = pd.read_csv(\"cleaned_resolution_time.csv\")\n",
    "\n",
    "# Step 1: Define columns to drop (includes the new ones you listed)\n",
    "drop_cols = [\n",
    "    'sys_id', 'number', 'opened_at', 'resolved_at', 'made_sla', 'sys_mod_count',\n",
    "    'active', 'incident_state', 'reassignment_count', 'resolution_time_hours',\n",
    "    'penalty_hours', 'resolution_class', 'resolution_class_encoded',\n",
    "    'contact_type', 'sys_updated_at', 'cmdb_ci', 'knowledge',\n",
    "    'u_priority_confirmation', 'problem_id', 'rfc', 'vendor',\n",
    "    'caused_by', 'closed_code', 'notify' \n",
    "]\n",
    "\n",
    "# Step 2: Define y (target)\n",
    "y = df['true_resolution_time']\n",
    "\n",
    "# Step 3: Drop columns from X\n",
    "X = df.drop(columns=drop_cols + ['true_resolution_time'], errors='ignore')\n",
    "\n",
    "# Step 4: Drop high cardinality text columns\n",
    "high_cardinality_cols = [col for col in X.columns if X[col].dtype == 'object' and X[col].nunique() > 100]\n",
    "X = X.drop(columns=high_cardinality_cols)\n",
    "\n",
    "# Step 5: Encode categorical variables\n",
    "for col in X.select_dtypes(include='object').columns:\n",
    "    X[col] = LabelEncoder().fit_transform(X[col].astype(str))\n",
    "\n",
    "# Step 6: Handle NaNs and infinite values\n",
    "X = X.replace([np.inf, -np.inf], np.nan).dropna()\n",
    "y = y.loc[X.index].replace([np.inf, -np.inf], np.nan).dropna()\n",
    "X = X.loc[y.index]\n",
    "\n",
    "# Step 7: Train/test split\n",
    "X_train, X_test, y_train, y_test = train_test_split(X, y, test_size=0.2, random_state=42)\n",
    "\n",
    "# Step 8: Train Random Forest\n",
    "rf = RandomForestRegressor(n_estimators=100, random_state=42)\n",
    "rf.fit(X_train, y_train)\n",
    "\n",
    "# Step 9: Feature Importance\n",
    "importances = rf.feature_importances_\n",
    "feature_names = X.columns\n",
    "feat_imp_df = pd.DataFrame({'Feature': feature_names, 'Importance': importances})\n",
    "feat_imp_df = feat_imp_df.sort_values(by='Importance', ascending=False)\n",
    "\n",
    "# Step 10: Plot feature importance\n",
    "plt.figure(figsize=(10, 6))\n",
    "plt.barh(feat_imp_df['Feature'], feat_imp_df['Importance'])\n",
    "plt.xlabel(\"Feature Importance\")\n",
    "plt.title(\"Feature Importance After Cleaning\")\n",
    "plt.gca().invert_yaxis()\n",
    "plt.tight_layout()\n",
    "plt.show()\n",
    "\n"
   ]
  },
  {
   "cell_type": "code",
   "execution_count": null,
   "id": "11cc025e",
   "metadata": {},
   "outputs": [
    {
     "name": "stdout",
     "output_type": "stream",
     "text": [
      "Cleaned file saved as final_cleaned_features.csv ✅\n"
     ]
    }
   ],
   "source": [
    "# Save cleaned feature matrix (X) and target (y) back into one DataFrame\n",
    "df_cleaned_final = X.copy()\n",
    "df_cleaned_final['true_resolution_time'] = y\n",
    "\n",
    "# Save to CSV\n",
    "df_cleaned_final.to_csv(\"final_cleaned_features.csv\", index=False)\n",
    "print(\"Cleaned file saved as final_cleaned_features.csv\")\n"
   ]
  },
  {
   "cell_type": "code",
   "execution_count": null,
   "id": "2d39d858",
   "metadata": {
    "scrolled": true
   },
   "outputs": [
    {
     "name": "stdout",
     "output_type": "stream",
     "text": [
      "Model with 'assignment_group'\n",
      "MAE: 209.98411693059649\n",
      "RMSE: 491.5444990693794\n",
      "R2: 0.35061868974682553\n",
      "\n",
      "Model without 'assignment_group'\n",
      "MAE: 242.25893682338645\n",
      "RMSE: 548.8609541026029\n",
      "R2: 0.19034728392722722\n",
      "\n",
      "Top 5 features via RFE:\n",
      "['reopen_count', 'impact', 'urgency', 'priority', 'category_name']\n"
     ]
    }
   ],
   "source": [
    "\n",
    "# Load data\n",
    "df = pd.read_csv(\"final_cleaned_features.csv\")\n",
    "y = df['true_resolution_time']\n",
    "X = df.drop(columns=['true_resolution_time'])\n",
    "\n",
    "### Check importance of 'assignment_group' by training two models\n",
    "X_with_group = X.copy()\n",
    "X_wo_group = X.drop(columns=['assignment_group'])\n",
    "\n",
    "X_train_all, X_test_all, y_train_all, y_test_all = train_test_split(X_with_group, y, test_size=0.2, random_state=42)\n",
    "X_train_wo, X_test_wo, y_train_wo, y_test_wo = train_test_split(X_wo_group, y, test_size=0.2, random_state=42)\n",
    "\n",
    "rf_all = RandomForestRegressor(n_estimators=100, random_state=42)\n",
    "rf_all.fit(X_train_all, y_train_all)\n",
    "y_pred_all = rf_all.predict(X_test_all)\n",
    "\n",
    "rf_wo = RandomForestRegressor(n_estimators=100, random_state=42)\n",
    "rf_wo.fit(X_train_wo, y_train_wo)\n",
    "y_pred_wo = rf_wo.predict(X_test_wo)\n",
    "\n",
    "print(\"Model with 'assignment_group'\")\n",
    "print(\"MAE:\", mean_absolute_error(y_test_all, y_pred_all))\n",
    "print(\"RMSE:\", np.sqrt(mean_squared_error(y_test_all, y_pred_all)))\n",
    "print(\"R2:\", r2_score(y_test_all, y_pred_all))\n",
    "\n",
    "print(\"\\nModel without 'assignment_group'\")\n",
    "print(\"MAE:\", mean_absolute_error(y_test_wo, y_pred_wo))\n",
    "print(\"RMSE:\", np.sqrt(mean_squared_error(y_test_wo, y_pred_wo)))\n",
    "print(\"R2:\", r2_score(y_test_wo, y_pred_wo))\n",
    "\n",
    "### Recursive Feature Elimination (RFE)\n",
    "rfe_model = LinearRegression()\n",
    "rfe = RFE(estimator=rfe_model, n_features_to_select=5)\n",
    "rfe.fit(X_with_group, y)\n",
    "\n",
    "print(\"\\nTop 5 features via RFE:\")\n",
    "print(X_with_group.columns[rfe.support_].tolist())"
   ]
  },
  {
   "cell_type": "markdown",
   "id": "d3460b97",
   "metadata": {},
   "source": [
    "R² drops by ~16% when we remove assignment_group.\n",
    "So, yes — it is an important feature in explaining resolution time, even if noisy.\n",
    "\n",
    "['reopen_count', 'impact', 'urgency', 'priority', 'category_name']\n",
    "These are:\n",
    "\n",
    "All intuitive\n",
    "\n",
    "Related to how severe, how urgent, and how many times the issue came back\n",
    "\n",
    "So this confirms your earlier intuition: features like priority, impact, urgency really do matter."
   ]
  },
  {
   "cell_type": "markdown",
   "id": "3448b298",
   "metadata": {},
   "source": [
    "### 6. Modelling"
   ]
  },
  {
   "cell_type": "code",
   "execution_count": null,
   "id": "62e9762a",
   "metadata": {
    "scrolled": true
   },
   "outputs": [
    {
     "name": "stdout",
     "output_type": "stream",
     "text": [
      "               Model         MAE        RMSE        R2\n",
      "0  Linear Regression  276.358876  607.248630  0.008923\n",
      "1      Random Forest  209.984117  491.544499  0.350619\n",
      "2  Gradient Boosting  227.127804  512.098501  0.295175\n",
      "3            XGBoost  210.944134  487.189947  0.362073\n",
      "4  SVR (downsampled)  190.344008  549.936242 -0.080850\n"
     ]
    }
   ],
   "source": [
    "# Try importing XGBoost with fallback\n",
    "try:\n",
    "    from xgboost import XGBRegressor\n",
    "    xgb_available = True\n",
    "except:\n",
    "    xgb_available = False\n",
    "    print(\"XGBoost could not be loaded. Skipping XGBRegressor.\")\n",
    "\n",
    "# Load dataset\n",
    "df = pd.read_csv(\"final_cleaned_features.csv\")\n",
    "\n",
    "# Define features and target\n",
    "y = df['true_resolution_time']\n",
    "X = df.drop(columns=['true_resolution_time'])\n",
    "\n",
    "# Train-test split\n",
    "X_train, X_test, y_train, y_test = train_test_split(X, y, test_size=0.2, random_state=42)\n",
    "\n",
    "# Helper function for evaluation\n",
    "def evaluate_model(name, model, X_test, y_test):\n",
    "    y_pred = model.predict(X_test)\n",
    "    return {\n",
    "        'Model': name,\n",
    "        'MAE': mean_absolute_error(y_test, y_pred),\n",
    "        'RMSE': np.sqrt(mean_squared_error(y_test, y_pred)),\n",
    "        'R2': r2_score(y_test, y_pred)\n",
    "    }\n",
    "\n",
    "# Store results\n",
    "results = []\n",
    "\n",
    "# 1. Linear Regression\n",
    "lr = LinearRegression()\n",
    "lr.fit(X_train, y_train)\n",
    "results.append(evaluate_model(\"Linear Regression\", lr, X_test, y_test))\n",
    "\n",
    "# 2. Random Forest (default)\n",
    "rf = RandomForestRegressor(n_estimators=100, random_state=42)\n",
    "rf.fit(X_train, y_train)\n",
    "results.append(evaluate_model(\"Random Forest\", rf, X_test, y_test))\n",
    "\n",
    "# 3. Gradient Boosting\n",
    "gb = GradientBoostingRegressor(random_state=42)\n",
    "gb.fit(X_train, y_train)\n",
    "results.append(evaluate_model(\"Gradient Boosting\", gb, X_test, y_test))\n",
    "\n",
    "# 4. XGBoost (if available)\n",
    "if xgb_available:\n",
    "    xgb = XGBRegressor(random_state=42, verbosity=0)\n",
    "    xgb.fit(X_train, y_train)\n",
    "    results.append(evaluate_model(\"XGBoost\", xgb, X_test, y_test))\n",
    "\n",
    "# 5. SVR (downsampled)\n",
    "sample_X_train = X_train.sample(n=5000, random_state=42)\n",
    "sample_y_train = y_train.loc[sample_X_train.index]\n",
    "sample_X_test = X_test.sample(n=2000, random_state=42)\n",
    "sample_y_test = y_test.loc[sample_X_test.index]\n",
    "\n",
    "svr = SVR()\n",
    "svr.fit(sample_X_train, sample_y_train)\n",
    "results.append(evaluate_model(\"SVR (downsampled)\", svr, sample_X_test, sample_y_test))\n",
    "\n",
    "# Show results\n",
    "results_df = pd.DataFrame(results)\n",
    "print(results_df)\n"
   ]
  },
  {
   "cell_type": "markdown",
   "id": "395d89ec",
   "metadata": {},
   "source": [
    "| Model                 | MAE ↓      | RMSE ↓     | R² ↑      | Notes                    |\n",
    "| --------------------- | ---------- | ---------- | --------- | ------------------------ |\n",
    "| **XGBoost**           | **210.94** | **487.19** | **0.362** | Best overall (default) |\n",
    "| **Random Forest**     | 209.98     | 491.54     | 0.351     | Close second          |\n",
    "| **Gradient Boosting** | 227.12     | 512.10     | 0.295     | Solid but weaker      |\n",
    "| **SVR (downsampled)** | 190.34     | 549.94     | -0.08     | Not performing well   |\n",
    "| **Linear Regression** | 276.35     | 607.25     | 0.009     | Baseline, poor fit    |\n",
    "\n",
    "\n",
    "Let's tune the top 2 models:\n",
    "\n",
    "- XGBoost\n",
    "\n",
    "- Random Forest"
   ]
  },
  {
   "cell_type": "code",
   "execution_count": null,
   "id": "6d30e797",
   "metadata": {},
   "outputs": [
    {
     "name": "stdout",
     "output_type": "stream",
     "text": [
      "Fitting 3 folds for each of 20 candidates, totalling 60 fits\n",
      "\n",
      "🔧 Tuned XGBoost:\n",
      "MAE: 210.72824433939087\n",
      "RMSE: 488.3567127123423\n",
      "R2: 0.35901417120892753\n"
     ]
    }
   ],
   "source": [
    "xgb_model = XGBRegressor(random_state=42, verbosity=0)\n",
    "\n",
    "xgb_params = {\n",
    "    \"n_estimators\": [100, 200, 300],\n",
    "    \"max_depth\": [3, 5, 7, 10],\n",
    "    \"learning_rate\": [0.01, 0.05, 0.1, 0.2],\n",
    "    \"subsample\": [0.6, 0.8, 1.0],\n",
    "    \"colsample_bytree\": [0.6, 0.8, 1.0]\n",
    "}\n",
    "\n",
    "xgb_search = RandomizedSearchCV(\n",
    "    estimator=xgb_model,\n",
    "    param_distributions=xgb_params,\n",
    "    n_iter=20,\n",
    "    scoring=\"neg_root_mean_squared_error\",\n",
    "    cv=3,\n",
    "    verbose=1,\n",
    "    random_state=42,\n",
    "    n_jobs=-1\n",
    ")\n",
    "\n",
    "xgb_search.fit(X_train, y_train)\n",
    "best_xgb = xgb_search.best_estimator_\n",
    "\n",
    "# Evaluation\n",
    "y_pred_xgb = best_xgb.predict(X_test)\n",
    "print(\"\\n🔧 Tuned XGBoost:\")\n",
    "print(\"MAE:\", mean_absolute_error(y_test, y_pred_xgb))\n",
    "print(\"RMSE:\", np.sqrt(mean_squared_error(y_test, y_pred_xgb)))\n",
    "print(\"R2:\", r2_score(y_test, y_pred_xgb))\n"
   ]
  },
  {
   "cell_type": "code",
   "execution_count": null,
   "id": "089bf333",
   "metadata": {
    "scrolled": true
   },
   "outputs": [
    {
     "name": "stdout",
     "output_type": "stream",
     "text": [
      "Fitting 3 folds for each of 20 candidates, totalling 60 fits\n",
      "\n",
      "🔧 Tuned Random Forest:\n",
      "MAE: 211.59318629881398\n",
      "RMSE: 492.3131112969117\n",
      "R2: 0.3485862688892135\n"
     ]
    }
   ],
   "source": [
    "from sklearn.ensemble import RandomForestRegressor\n",
    "\n",
    "rf_model = RandomForestRegressor(random_state=42)\n",
    "\n",
    "rf_params = {\n",
    "    \"n_estimators\": [100, 200, 300],\n",
    "    \"max_depth\": [None, 10, 20, 30],\n",
    "    \"min_samples_split\": [2, 5, 10],\n",
    "    \"min_samples_leaf\": [1, 2, 4],\n",
    "    \"max_features\": ['auto', 'sqrt', 'log2']\n",
    "}\n",
    "\n",
    "rf_search = RandomizedSearchCV(\n",
    "    estimator=rf_model,\n",
    "    param_distributions=rf_params,\n",
    "    n_iter=20,\n",
    "    scoring=\"neg_root_mean_squared_error\",\n",
    "    cv=3,\n",
    "    verbose=1,\n",
    "    random_state=42,\n",
    "    n_jobs=-1\n",
    ")\n",
    "\n",
    "rf_search.fit(X_train, y_train)\n",
    "best_rf = rf_search.best_estimator_\n",
    "\n",
    "# Evaluation\n",
    "y_pred_rf = best_rf.predict(X_test)\n",
    "print(\"\\nTuned Random Forest:\")\n",
    "print(\"MAE:\", mean_absolute_error(y_test, y_pred_rf))\n",
    "print(\"RMSE:\", np.sqrt(mean_squared_error(y_test, y_pred_rf)))\n",
    "print(\"R2:\", r2_score(y_test, y_pred_rf))\n"
   ]
  },
  {
   "cell_type": "markdown",
   "id": "ca3e8d79",
   "metadata": {},
   "source": [
    "Sometimes tuning with limited folds and ranges overfits the cross-validation, and the model generalizes worse on real test data.\n",
    "\n"
   ]
  },
  {
   "cell_type": "code",
   "execution_count": null,
   "id": "44afb816",
   "metadata": {},
   "outputs": [
    {
     "data": {
      "image/png": "[encoded data removed]",
      "text/plain": [
       "<Figure size 432x288 with 2 Axes>"
      ]
     },
     "metadata": {
      "needs_background": "light"
     },
     "output_type": "display_data"
    },
    {
     "ename": "ModuleNotFoundError",
     "evalue": "No module named 'ace_tools'",
     "output_type": "error",
     "traceback": [
      "\u001b[1;31m---------------------------------------------------------------------------\u001b[0m",
      "\u001b[1;31mModuleNotFoundError\u001b[0m                       Traceback (most recent call last)",
      "Input \u001b[1;32mIn [57]\u001b[0m, in \u001b[0;36m<cell line: 55>\u001b[1;34m()\u001b[0m\n\u001b[0;32m     53\u001b[0m \u001b[38;5;66;03m# Display report as DataFrame\u001b[39;00m\n\u001b[0;32m     54\u001b[0m report_df \u001b[38;5;241m=\u001b[39m pd\u001b[38;5;241m.\u001b[39mDataFrame(report)\u001b[38;5;241m.\u001b[39mtranspose()\n\u001b[1;32m---> 55\u001b[0m \u001b[38;5;28;01mimport\u001b[39;00m \u001b[38;5;21;01mace_tools\u001b[39;00m \u001b[38;5;28;01mas\u001b[39;00m \u001b[38;5;21;01mtools\u001b[39;00m; tools\u001b[38;5;241m.\u001b[39mdisplay_dataframe_to_user(name\u001b[38;5;241m=\u001b[39m\u001b[38;5;124m\"\u001b[39m\u001b[38;5;124mClassification Report\u001b[39m\u001b[38;5;124m\"\u001b[39m, dataframe\u001b[38;5;241m=\u001b[39mreport_df)\n",
      "\u001b[1;31mModuleNotFoundError\u001b[0m: No module named 'ace_tools'"
     ]
    }
   ],
   "source": [
    "# Load the dataset\n",
    "df = pd.read_csv(\"final_cleaned_features.csv\")\n",
    "\n",
    "# Bin target variable (true_resolution_time) into categories\n",
    "def categorize_resolution_time(hours):\n",
    "    if hours <= 120:\n",
    "        return 'Fast'\n",
    "    elif hours <= 360:\n",
    "        return 'Moderate'\n",
    "    else:\n",
    "        return 'Slow'\n",
    "\n",
    "df['resolution_speed'] = df['true_resolution_time'].apply(categorize_resolution_time)\n",
    "\n",
    "# Drop the original regression target and other irrelevant columns\n",
    "X = df.drop(columns=['true_resolution_time', 'resolution_speed'])\n",
    "y = df['resolution_speed']\n",
    "\n",
    "# Encode categorical variables\n",
    "for col in X.select_dtypes(include='object').columns:\n",
    "    X[col] = LabelEncoder().fit_transform(X[col].astype(str))\n",
    "\n",
    "# Split dataset\n",
    "X_train, X_test, y_train, y_test = train_test_split(X, y, test_size=0.2, random_state=42)\n",
    "\n",
    "# Train a basic classifier\n",
    "clf = RandomForestClassifier(n_estimators=100, random_state=42)\n",
    "clf.fit(X_train, y_train)\n",
    "y_pred = clf.predict(X_test)\n",
    "\n",
    "# Generate classification report and confusion matrix\n",
    "report = classification_report(y_test, y_pred, output_dict=True)\n",
    "conf_matrix = confusion_matrix(y_test, y_pred)\n",
    "\n",
    "# Plot confusion matrix\n",
    "plt.figure(figsize=(6, 4))\n",
    "sns.heatmap(conf_matrix, annot=True, fmt=\"d\", cmap=\"Blues\",\n",
    "            xticklabels=clf.classes_, yticklabels=clf.classes_)\n",
    "plt.xlabel(\"Predicted\")\n",
    "plt.ylabel(\"Actual\")\n",
    "plt.title(\"Confusion Matrix - Classification (Fast / Moderate / Slow)\")\n",
    "plt.tight_layout()\n",
    "plt.show()\n",
    "\n",
    "# Display report as DataFrame\n",
    "report_df = pd.DataFrame(report).transpose()\n",
    "import ace_tools as tools \n",
    "tools.display_dataframe_to_user(name=\"Classification Report\", dataframe=report_df)\n"
   ]
  },
  {
   "cell_type": "code",
   "execution_count": null,
   "id": "328dfb83",
   "metadata": {
    "scrolled": false
   },
   "outputs": [
    {
     "name": "stderr",
     "output_type": "stream",
     "text": [
      "C:\\Users\\Mrunmayee Dixit\\anaconda3\\lib\\site-packages\\xgboost\\sklearn.py:1395: UserWarning: `use_label_encoder` is deprecated in 1.7.0.\n",
      "  warnings.warn(\"`use_label_encoder` is deprecated in 1.7.0.\")\n"
     ]
    },
    {
     "name": "stdout",
     "output_type": "stream",
     "text": [
      "\n",
      "🔍 Random Forest\n",
      "              precision    recall  f1-score   support\n",
      "\n",
      "        Fast       0.58      0.62      0.60      9175\n",
      "    Moderate       0.50      0.47      0.48      9198\n",
      "        Slow       0.55      0.54      0.55      9242\n",
      "\n",
      "    accuracy                           0.54     27615\n",
      "   macro avg       0.54      0.54      0.54     27615\n",
      "weighted avg       0.54      0.54      0.54     27615\n",
      "\n",
      "\n",
      "🔍 Logistic Regression\n",
      "              precision    recall  f1-score   support\n",
      "\n",
      "        Fast       0.44      0.62      0.52      9175\n",
      "    Moderate       0.41      0.40      0.40      9198\n",
      "        Slow       0.41      0.26      0.32      9242\n",
      "\n",
      "    accuracy                           0.42     27615\n",
      "   macro avg       0.42      0.42      0.41     27615\n",
      "weighted avg       0.42      0.42      0.41     27615\n",
      "\n",
      "\n",
      "🔍 Gradient Boosting\n",
      "              precision    recall  f1-score   support\n",
      "\n",
      "        Fast       0.57      0.58      0.57      9175\n",
      "    Moderate       0.47      0.48      0.47      9198\n",
      "        Slow       0.53      0.50      0.52      9242\n",
      "\n",
      "    accuracy                           0.52     27615\n",
      "   macro avg       0.52      0.52      0.52     27615\n",
      "weighted avg       0.52      0.52      0.52     27615\n",
      "\n",
      "\n",
      "🔍 XGBoost\n",
      "              precision    recall  f1-score   support\n",
      "\n",
      "        Fast       0.59      0.62      0.60      9175\n",
      "    Moderate       0.49      0.47      0.48      9198\n",
      "        Slow       0.55      0.55      0.55      9242\n",
      "\n",
      "    accuracy                           0.54     27615\n",
      "   macro avg       0.54      0.54      0.54     27615\n",
      "weighted avg       0.54      0.54      0.54     27615\n",
      "\n"
     ]
    }
   ],
   "source": [
    "try:\n",
    "    from lightgbm import LGBMClassifier\n",
    "except ImportError:\n",
    "    LGBMClassifier = None\n",
    "try:\n",
    "    from catboost import CatBoostClassifier\n",
    "except ImportError:\n",
    "    CatBoostClassifier = None\n",
    "try:\n",
    "    import xgboost as xgb\n",
    "except ImportError:\n",
    "    xgb = None\n",
    "\n",
    "# Load dataset\n",
    "df = pd.read_csv(\"final_cleaned_features.csv\")\n",
    "\n",
    "# Categorize resolution time\n",
    "def categorize_resolution_time(hours):\n",
    "    if hours <= 17.86666667:\n",
    "        return 'Fast'\n",
    "    elif hours <= 122.55:\n",
    "        return 'Moderate'\n",
    "    else:\n",
    "        return 'Slow'\n",
    "\n",
    "df['resolution_speed'] = df['true_resolution_time'].apply(categorize_resolution_time)\n",
    "\n",
    "# Prepare X and y\n",
    "X = df.drop(columns=['true_resolution_time', 'resolution_speed'])\n",
    "y = df['resolution_speed']\n",
    "\n",
    "# Encode features\n",
    "for col in X.select_dtypes(include='object').columns:\n",
    "    X[col] = LabelEncoder().fit_transform(X[col].astype(str))\n",
    "\n",
    "# Encode target\n",
    "y_encoder = LabelEncoder()\n",
    "y_encoded = y_encoder.fit_transform(y)  # This will give 0, 1, 2\n",
    "\n",
    "# Split\n",
    "X_train, X_test, y_train, y_test = train_test_split(X, y_encoded, test_size=0.2, random_state=42)\n",
    "\n",
    "# Define models\n",
    "models = {\n",
    "    \"Random Forest\": RandomForestClassifier(n_estimators=100, random_state=42),\n",
    "    \"Logistic Regression\": LogisticRegression(max_iter=1000),\n",
    "    \"Gradient Boosting\": GradientBoostingClassifier()\n",
    "}\n",
    "\n",
    "if xgb:\n",
    "    models[\"XGBoost\"] = xgb.XGBClassifier(use_label_encoder=False, eval_metric='mlogloss')\n",
    "if LGBMClassifier:\n",
    "    models[\"LightGBM\"] = LGBMClassifier()\n",
    "if CatBoostClassifier:\n",
    "    models[\"CatBoost\"] = CatBoostClassifier(verbose=0)\n",
    "\n",
    "# Train and evaluate\n",
    "for name, model in models.items():\n",
    "    print(f\"\\n {name}\")\n",
    "    model.fit(X_train, y_train)\n",
    "    y_pred = model.predict(X_test)\n",
    "    print(classification_report(y_test, y_pred, target_names=y_encoder.classes_))\n"
   ]
  },
  {
   "cell_type": "markdown",
   "id": "67d648f2",
   "metadata": {},
   "source": [
    " 1. Best Performing Model (So Far):\n",
    "XGBoost and Random Forest are tied at ~54% accuracy\n",
    "\n",
    "Both models give a balanced macro average F1 of ~0.54\n",
    "\n",
    "Fast and Slow classes are easier to predict; Moderate is the toughest to classify — a very common issue in 3-class problems when the middle class is ambiguous\n",
    "\n",
    "| Model               | Accuracy | Fast (F1) | Moderate (F1) | Slow (F1) |\n",
    "| ------------------- | -------- | --------- | ------------- | --------- |\n",
    "| Random Forest       | 0.54     | 0.60      | 0.48          | 0.55      |\n",
    "| Logistic Regression | 0.42     | 0.52      | 0.40          | 0.32      |\n",
    "| Gradient Boosting   | 0.52     | 0.57      | 0.47          | 0.52      |\n",
    "| XGBoost             | 0.54     | 0.60      | 0.48          | 0.55      |\n",
    "\n",
    "\n",
    "Logistic Regression struggles → confirms the problem is nonlinear and more complex\n",
    "\n",
    "Moderate category is hardest — borderline examples likely exist\n",
    "\n",
    "Overall accuracy isn't super high, but real-world usefulness is still solid, especially for prioritizing “Fast” and “Slow” tickets"
   ]
  },
  {
   "cell_type": "code",
   "execution_count": null,
   "id": "a2c173b9",
   "metadata": {},
   "outputs": [
    {
     "name": "stdout",
     "output_type": "stream",
     "text": [
      "Fast threshold: 17.86666667\n",
      "Moderate threshold: 122.55\n",
      "Slow        0.34\n",
      "Fast        0.33\n",
      "Moderate    0.33\n",
      "Name: resolution_speed, dtype: float64\n"
     ]
    }
   ],
   "source": [
    "# Check distribution of target\n",
    "percentiles = np.percentile(df['true_resolution_time'], [33, 66])\n",
    "fast_thresh, moderate_thresh = percentiles\n",
    "print(\"Fast threshold:\", fast_thresh)\n",
    "print(\"Moderate threshold:\", moderate_thresh)\n",
    "\n",
    "# Function to categorize dynamically\n",
    "def dynamic_bucket(time):\n",
    "    if time <= fast_thresh:\n",
    "        return \"Fast\"\n",
    "    elif time <= moderate_thresh:\n",
    "        return \"Moderate\"\n",
    "    else:\n",
    "        return \"Slow\"\n",
    "\n",
    "# Create new label\n",
    "df['resolution_speed'] = df['true_resolution_time'].apply(dynamic_bucket)\n",
    "\n",
    "# View class distribution\n",
    "print(df['resolution_speed'].value_counts(normalize=True).round(2))"
   ]
  },
  {
   "cell_type": "code",
   "execution_count": null,
   "id": "276e63ea",
   "metadata": {},
   "outputs": [],
   "source": [
    "def plot_confusion_matrix(y_true, y_pred, model_name=\"Model\"):\n",
    "    labels = sorted(list(set(y_true)))  # ['Fast', 'Moderate', 'Slow']\n",
    "    cm = confusion_matrix(y_true, y_pred, labels=labels)\n",
    "\n",
    "    plt.figure(figsize=(6, 5))\n",
    "    sns.heatmap(cm, annot=True, fmt='d', cmap='Blues', \n",
    "                xticklabels=labels, yticklabels=labels)\n",
    "    plt.title(f\"{model_name} - Confusion Matrix\")\n",
    "    plt.xlabel(\"Predicted\")\n",
    "    plt.ylabel(\"Actual\")\n",
    "    plt.tight_layout()\n",
    "    plt.show()\n",
    "\n"
   ]
  },
  {
   "cell_type": "code",
   "execution_count": 63,
   "id": "c335ebac",
   "metadata": {
    "scrolled": true
   },
   "outputs": [
    {
     "data": {
      "image/png": "[encoded data removed]",
      "text/plain": [
       "<Figure size 432x360 with 2 Axes>"
      ]
     },
     "metadata": {
      "needs_background": "light"
     },
     "output_type": "display_data"
    }
   ],
   "source": [
    "plot_confusion_matrix(y_test, model.predict(X_test), model_name=\"XGBoost\")"
   ]
  },
  {
   "cell_type": "markdown",
   "id": "4346f405",
   "metadata": {},
   "source": [
    "#### Interpretation\n",
    "Diagonal values (top-left to bottom-right) are correct predictions:\n",
    "\n",
    "5649 Fast tickets were correctly predicted as Fast\n",
    "\n",
    "4322 Moderate were predicted as Moderate\n",
    "\n",
    "5044 Slow were predicted as Slow\n",
    "\n",
    "Off-diagonal values are misclassifications:\n",
    "\n",
    "2043 Fast tickets were wrongly predicted as Moderate\n",
    "\n",
    "2659 Moderate predicted as Slow\n",
    "\n",
    "2425 Slow predicted as Moderate, etc.\n",
    "\n",
    "Model Accuracy Estimate from Matrix:\n",
    "Correct = 5649 + 4322 + 5044 = 15,015\n",
    "Total = 9175 + 9198 + 9242 = 27,615\n",
    "Accuracy ≈ 15,015 / 27,615 ≈ 54.3%\n",
    "\n",
    "Which matches your earlier reported accuracy (~54%).\n",
    "\n",
    "Insights:\n",
    "Model is decent at distinguishing Fast vs Slow\n",
    "\n",
    "Moderate is the hardest class - gets confused with both ends\n",
    "\n",
    "You could improve this by:\n",
    "\n",
    "Trying class weights\n",
    "\n",
    "Using stacked models\n",
    "\n",
    "Improving feature quality"
   ]
  },
  {
   "cell_type": "code",
   "execution_count": null,
   "id": "bf13dea8",
   "metadata": {},
   "outputs": [
    {
     "name": "stderr",
     "output_type": "stream",
     "text": [
      "C:\\Users\\Mrunmayee Dixit\\anaconda3\\lib\\site-packages\\xgboost\\sklearn.py:1395: UserWarning: `use_label_encoder` is deprecated in 1.7.0.\n",
      "  warnings.warn(\"`use_label_encoder` is deprecated in 1.7.0.\")\n"
     ]
    },
    {
     "name": "stdout",
     "output_type": "stream",
     "text": [
      "\n",
      "🔍 Random Forest (weighted)\n",
      "              precision    recall  f1-score   support\n",
      "\n",
      "        Fast       0.58      0.62      0.60      9175\n",
      "    Moderate       0.49      0.48      0.48      9198\n",
      "        Slow       0.56      0.53      0.54      9242\n",
      "\n",
      "    accuracy                           0.54     27615\n",
      "   macro avg       0.54      0.54      0.54     27615\n",
      "weighted avg       0.54      0.54      0.54     27615\n",
      "\n",
      "\n",
      "🔍 Logistic Regression (weighted)\n",
      "              precision    recall  f1-score   support\n",
      "\n",
      "        Fast       0.44      0.63      0.52      9175\n",
      "    Moderate       0.41      0.47      0.44      9198\n",
      "        Slow       0.44      0.18      0.26      9242\n",
      "\n",
      "    accuracy                           0.43     27615\n",
      "   macro avg       0.43      0.43      0.40     27615\n",
      "weighted avg       0.43      0.43      0.40     27615\n",
      "\n",
      "\n",
      "🔍 Gradient Boosting\n",
      "              precision    recall  f1-score   support\n",
      "\n",
      "        Fast       0.57      0.58      0.57      9175\n",
      "    Moderate       0.47      0.48      0.47      9198\n",
      "        Slow       0.53      0.50      0.52      9242\n",
      "\n",
      "    accuracy                           0.52     27615\n",
      "   macro avg       0.52      0.52      0.52     27615\n",
      "weighted avg       0.52      0.52      0.52     27615\n",
      "\n",
      "\n",
      "🔍 XGBoost\n",
      "              precision    recall  f1-score   support\n",
      "\n",
      "        Fast       0.59      0.62      0.60      9175\n",
      "    Moderate       0.49      0.47      0.48      9198\n",
      "        Slow       0.55      0.55      0.55      9242\n",
      "\n",
      "    accuracy                           0.54     27615\n",
      "   macro avg       0.54      0.54      0.54     27615\n",
      "weighted avg       0.54      0.54      0.54     27615\n",
      "\n"
     ]
    }
   ],
   "source": [
    "# Load data\n",
    "df = pd.read_csv(\"final_cleaned_features.csv\")\n",
    "\n",
    "df['resolution_speed'] = df['true_resolution_time'].apply(categorize_resolution_time)\n",
    "\n",
    "# Prepare X and y\n",
    "X = df.drop(columns=['true_resolution_time', 'resolution_speed'])\n",
    "y = df['resolution_speed']\n",
    "\n",
    "# Label encode categorical features\n",
    "for col in X.select_dtypes(include='object').columns:\n",
    "    X[col] = LabelEncoder().fit_transform(X[col].astype(str))\n",
    "\n",
    "# Encode y to integers for XGBoost\n",
    "y_encoder = LabelEncoder()\n",
    "y_encoded = y_encoder.fit_transform(y)\n",
    "\n",
    "# Train/test split\n",
    "X_train, X_test, y_train_enc, y_test_enc = train_test_split(X, y_encoded, test_size=0.2, random_state=42)\n",
    "\n",
    "# Decode later for reporting\n",
    "y_test_labels = y_encoder.inverse_transform(y_test_enc)\n",
    "\n",
    "# Define models\n",
    "models = {\n",
    "    \"Random Forest (weighted)\": RandomForestClassifier(n_estimators=100, class_weight='balanced', random_state=42),\n",
    "    \"Logistic Regression (weighted)\": LogisticRegression(max_iter=1000, class_weight='balanced'),\n",
    "    \"Gradient Boosting\": GradientBoostingClassifier(),\n",
    "    \"XGBoost\": xgb.XGBClassifier(use_label_encoder=False, eval_metric='mlogloss')  # XGBoost handles integer labels\n",
    "}\n",
    "\n",
    "# Train and evaluate\n",
    "for name, model in models.items():\n",
    "    print(f\"\\n {name}\")\n",
    "    model.fit(X_train, y_train_enc)\n",
    "    y_pred_enc = model.predict(X_test)\n",
    "    y_pred_labels = y_encoder.inverse_transform(y_pred_enc)\n",
    "    print(classification_report(y_test_labels, y_pred_labels))\n"
   ]
  },
  {
   "cell_type": "code",
   "execution_count": null,
   "id": "fe485efd",
   "metadata": {
    "scrolled": true
   },
   "outputs": [
    {
     "name": "stderr",
     "output_type": "stream",
     "text": [
      "C:\\Users\\Mrunmayee Dixit\\anaconda3\\lib\\site-packages\\xgboost\\sklearn.py:1395: UserWarning: `use_label_encoder` is deprecated in 1.7.0.\n",
      "  warnings.warn(\"`use_label_encoder` is deprecated in 1.7.0.\")\n"
     ]
    },
    {
     "data": {
      "image/png": "[encoded data removed]",
      "text/plain": [
       "<Figure size 1008x720 with 8 Axes>"
      ]
     },
     "metadata": {
      "needs_background": "light"
     },
     "output_type": "display_data"
    }
   ],
   "source": [
    "# Load data\n",
    "df = pd.read_csv(\"final_cleaned_features.csv\")\n",
    "\n",
    "# Step 1: Categorize resolution time\n",
    "def categorize_resolution_time(hours):\n",
    "    if hours <= 120:\n",
    "        return 'Fast'\n",
    "    elif hours <= 360:\n",
    "        return 'Moderate'\n",
    "    else:\n",
    "        return 'Slow'\n",
    "\n",
    "df['resolution_speed'] = df['true_resolution_time'].apply(categorize_resolution_time)\n",
    "\n",
    "# Step 2: Prepare features and label\n",
    "X = df.drop(columns=['true_resolution_time', 'resolution_speed'])\n",
    "y = df['resolution_speed']\n",
    "\n",
    "# Encode X (features)\n",
    "for col in X.select_dtypes(include='object').columns:\n",
    "    X[col] = LabelEncoder().fit_transform(X[col].astype(str))\n",
    "\n",
    "# Encode y (labels)\n",
    "y_encoder = LabelEncoder()\n",
    "y_encoded = y_encoder.fit_transform(y)\n",
    "class_names = y_encoder.classes_  # ['Fast', 'Moderate', 'Slow']\n",
    "\n",
    "# Train/test split\n",
    "X_train, X_test, y_train_enc, y_test_enc = train_test_split(X, y_encoded, test_size=0.2, random_state=42)\n",
    "\n",
    "# Classifiers\n",
    "models = {\n",
    "    'Random Forest': RandomForestClassifier(n_estimators=100, class_weight='balanced', random_state=42),\n",
    "    'Logistic Regression': LogisticRegression(max_iter=1000, class_weight='balanced'),\n",
    "    'Gradient Boosting': GradientBoostingClassifier(),\n",
    "    'XGBoost': xgb.XGBClassifier(use_label_encoder=False, eval_metric='mlogloss')\n",
    "}\n",
    "\n",
    "# Step 3: Plot confusion matrices\n",
    "fig, axes = plt.subplots(2, 2, figsize=(14, 10))\n",
    "axes = axes.flatten()\n",
    "\n",
    "for idx, (name, model) in enumerate(models.items()):\n",
    "    model.fit(X_train, y_train_enc)\n",
    "    y_pred = model.predict(X_test)\n",
    "    cm = confusion_matrix(y_test_enc, y_pred)\n",
    "\n",
    "    sns.heatmap(cm, annot=True, fmt='d', cmap='Blues',\n",
    "                xticklabels=class_names, yticklabels=class_names,\n",
    "                ax=axes[idx])\n",
    "    \n",
    "    axes[idx].set_title(f\"{name} - Confusion Matrix\")\n",
    "    axes[idx].set_xlabel(\"Predicted\")\n",
    "    axes[idx].set_ylabel(\"Actual\")\n",
    "\n",
    "plt.tight_layout()\n",
    "plt.show()\n"
   ]
  },
  {
   "cell_type": "markdown",
   "id": "6772dfe1",
   "metadata": {},
   "source": [
    "Especially in Gradient Boosting and XGBoost, the confusion matrices show a strong bias toward predicting ‘Fast’, even when the actual class is ‘Moderate’ or ‘Slow’.\n",
    "\n",
    " Example from your Gradient Boosting CM:\n",
    "| Actual \\ Predicted | Fast   | Moderate | Slow |\n",
    "| ------------------ | ------ | -------- | ---- |\n",
    "| **Fast**           | 17,892 | 93       | 219  |\n",
    "| **Moderate**       | 5,760  | 144      | 168  |\n",
    "| **Slow**           | 2,534  | 59       | 746  |\n",
    "\n",
    "his means:\n",
    "\n",
    "Fast is over-predicted — even Moderate and Slow tickets are being classified as Fast.\n",
    "\n",
    "Model is being pulled toward the majority class.\n",
    "\n",
    "Why This Is Happening:\n",
    "Class imbalance (even if slight) leads boosting models to favor the dominant class.\n",
    "\n",
    "Class weights may not be properly applied in GradientBoostingClassifier() — unlike in Random Forest or Logistic Regression, it does not support class_weight directly.\n",
    "\n",
    "Poor class separation after feature engineering — model finds ‘Fast’ easier to separate than other classes."
   ]
  },
  {
   "cell_type": "code",
   "execution_count": null,
   "id": "517879a5",
   "metadata": {
    "scrolled": true
   },
   "outputs": [
    {
     "name": "stdout",
     "output_type": "stream",
     "text": [
      "\n",
      "📊 Error Bucket Evaluation:\n",
      "    Bucket  Count  Percentage\n",
      "0   ≤ 1 hr    121    0.438168\n",
      "1  1–4 hrs    479    1.734565\n",
      "2  > 4 hrs  27015   97.827268\n"
     ]
    }
   ],
   "source": [
    "# Load dataset\n",
    "df = pd.read_csv(\"final_cleaned_features.csv\")\n",
    "\n",
    "# Feature and target\n",
    "X = df.drop(columns=['true_resolution_time'])\n",
    "y = df['true_resolution_time']\n",
    "\n",
    "# Encode categorical features\n",
    "for col in X.select_dtypes(include='object').columns:\n",
    "    X[col] = LabelEncoder().fit_transform(X[col].astype(str))\n",
    "\n",
    "# Train-test split\n",
    "X_train, X_test, y_train, y_test = train_test_split(X, y, test_size=0.2, random_state=42)\n",
    "\n",
    "# Train XGBoost Regressor\n",
    "model = xgb.XGBRegressor(n_estimators=100, random_state=42)\n",
    "model.fit(X_train, y_train)\n",
    "\n",
    "# Predict and calculate errors\n",
    "y_pred = model.predict(X_test)\n",
    "errors = np.abs(y_pred - y_test)\n",
    "\n",
    "# Bucket evaluation\n",
    "within_1_hr = np.sum(errors <= 1)\n",
    "within_4_hr = np.sum((errors > 1) & (errors <= 4))\n",
    "more_than_4_hr = np.sum(errors > 4)\n",
    "total = len(errors)\n",
    "\n",
    "# Show results\n",
    "error_buckets = pd.DataFrame({\n",
    "    'Bucket': ['≤ 1 hr', '1–4 hrs', '> 4 hrs'],\n",
    "    'Count': [within_1_hr, within_4_hr, more_than_4_hr],\n",
    "    'Percentage': [within_1_hr / total * 100, within_4_hr / total * 100, more_than_4_hr / total * 100]\n",
    "})\n",
    "\n",
    "print(\"\\n Error Bucket Evaluation:\")\n",
    "print(error_buckets)\n"
   ]
  },
  {
   "cell_type": "markdown",
   "id": "20acc6f8",
   "metadata": {},
   "source": [
    "“While regression metrics like RMSE and R² showed moderately acceptable performance, the Error Bucket Evaluation clearly demonstrates that the model lacks the precision needed for accurate short-term predictions. In real-world scenarios where predicting resolution time within a few hours matters (e.g., for SLAs), this model would fall short. This justifies our exploration into alternative formulations like classification-based prediction (‘Fast’, ‘Moderate’, ‘Slow’) and further model tuning.”\n",
    "\n"
   ]
  },
  {
   "cell_type": "code",
   "execution_count": null,
   "id": "4c314af4",
   "metadata": {
    "scrolled": true
   },
   "outputs": [
    {
     "name": "stdout",
     "output_type": "stream",
     "text": [
      "\n",
      "🔮 Voting Classifier (Soft Voting) - Final Report:\n",
      "              precision    recall  f1-score   support\n",
      "\n",
      "        Fast       0.58      0.61      0.60      9175\n",
      "    Moderate       0.50      0.47      0.48      9198\n",
      "        Slow       0.55      0.55      0.55      9242\n",
      "\n",
      "    accuracy                           0.54     27615\n",
      "   macro avg       0.54      0.54      0.54     27615\n",
      "weighted avg       0.54      0.54      0.54     27615\n",
      "\n"
     ]
    }
   ],
   "source": [
    "from sklearn.ensemble import RandomForestClassifier, GradientBoostingClassifier, VotingClassifier\n",
    "from sklearn.linear_model import LogisticRegression\n",
    "from sklearn.metrics import classification_report\n",
    "from sklearn.preprocessing import LabelEncoder\n",
    "from sklearn.base import BaseEstimator, ClassifierMixin\n",
    "import xgboost as xgb\n",
    "\n",
    "# 1. Define wrapper for XGBoost with LabelEncoder built-in\n",
    "class XGBWrapper(BaseEstimator, ClassifierMixin):\n",
    "    def __init__(self):\n",
    "        self.encoder = LabelEncoder()\n",
    "        self.model = xgb.XGBClassifier(eval_metric='mlogloss')  # no deprecated warning\n",
    "\n",
    "    def fit(self, X, y):\n",
    "        y_enc = self.encoder.fit_transform(y)\n",
    "        self.model.fit(X, y_enc)\n",
    "        return self\n",
    "\n",
    "    def predict(self, X):\n",
    "        y_pred_enc = self.model.predict(X)\n",
    "        return self.encoder.inverse_transform(y_pred_enc)\n",
    "\n",
    "    def predict_proba(self, X):\n",
    "        return self.model.predict_proba(X)\n",
    "\n",
    "# 2. Define models\n",
    "rf = RandomForestClassifier(n_estimators=100, class_weight='balanced', random_state=42)\n",
    "lr = LogisticRegression(max_iter=1000, class_weight='balanced')\n",
    "gb = GradientBoostingClassifier()\n",
    "xgb_wrapped = XGBWrapper()\n",
    "\n",
    "# 3. Voting Classifier\n",
    "voting_clf = VotingClassifier(\n",
    "    estimators=[\n",
    "        ('rf', rf),\n",
    "        ('lr', lr),\n",
    "        ('gb', gb),\n",
    "        ('xgb', xgb_wrapped)\n",
    "    ],\n",
    "    voting='soft'\n",
    ")\n",
    "\n",
    "# 4. Fit and Predict\n",
    "voting_clf.fit(X_train, y_train)\n",
    "y_pred = voting_clf.predict(X_test)\n",
    "\n",
    "# 5. Report\n",
    "print(\"\\nVoting Classifier (Soft Voting) - Final Report:\")\n",
    "print(classification_report(y_test, y_pred))\n"
   ]
  },
  {
   "cell_type": "markdown",
   "id": "6419ded8",
   "metadata": {},
   "source": [
    "This is a solid result — and a perfect point to conclude your practical exploration. Here's why:\n",
    "\n",
    "What the Voting Classifier Result Means:\n",
    "- Accuracy: 0.54\n",
    "- F1 (weighted): 0.54\n",
    "- Balanced performance across all 3 classes:\n",
    "\n",
    "Fast: f1 = 0.60\n",
    "\n",
    "Moderate: f1 = 0.48\n",
    "\n",
    "Slow: f1 = 0.55\n",
    "\n",
    "Should You Include This in Your Report?\n",
    "Absolutely yes.\n",
    "This VotingClassifier serves as a final, fair comparison that:\n",
    "\n",
    "Combines strengths of RandomForest, LogisticRegression, GradientBoosting, and XGBoost\n",
    "\n",
    "Handles class imbalance reasonably\n",
    "\n",
    "Avoids extreme misclassifications of ‘Slow’ as ‘Fast’\n",
    "\n",
    "To mitigate model-specific biases and achieve balanced classification across all categories (Fast, Moderate, Slow), we implemented a soft-voting ensemble that combines Random Forest, Logistic Regression, Gradient Boosting, and XGBoost. This ensemble achieved a balanced accuracy of 54%, with class-specific F1-scores indicating more stable predictions than individual models. The ensemble helped stabilize recall for ‘Moderate’ and ‘Slow’ classes, which were previously misclassified as ‘Fast’ in isolated models.\n",
    "\n",
    "What do I get from all this?\n",
    "\n",
    "- Reassignments kill resolution times → need strict triage rules and escalation triggers.  \n",
    "- Engineers are not overloaded, but processes are broken → need SLA enforcement and handover discipline.  \n",
    "- Assignment group matters a lot → leadership should review slow groups and fix gaps.  \n",
    "- Auto-escalation should kick in when a ticket sits idle for too long.  \n",
    "- Better routing (first-time-right) reduces bounces and penalties.  \n",
    "\n",
    "So even a model with 54% accuracy adds value if it helps teams avoid these mess-ups early."
   ]
  },
  {
   "cell_type": "code",
   "execution_count": null,
   "id": "0110f5bf",
   "metadata": {},
   "outputs": [],
   "source": []
  },
  {
   "cell_type": "code",
   "execution_count": null,
   "id": "76f5067e",
   "metadata": {},
   "outputs": [],
   "source": []
  },
  {
   "cell_type": "code",
   "execution_count": null,
   "id": "9674f6f3",
   "metadata": {},
   "outputs": [],
   "source": []
  },
  {
   "cell_type": "code",
   "execution_count": null,
   "id": "2dae5b74",
   "metadata": {},
   "outputs": [],
   "source": []
  },
  {
   "cell_type": "code",
   "execution_count": null,
   "id": "51379ace",
   "metadata": {},
   "outputs": [],
   "source": []
  }
 ],
 "metadata": {
  "kernelspec": {
   "display_name": "Python 3 (ipykernel)",
   "language": "python",
   "name": "python3"
  },
  "language_info": {
   "codemirror_mode": {
    "name": "ipython",
    "version": 3
   },
   "file_extension": ".py",
   "mimetype": "text/x-python",
   "name": "python",
   "nbconvert_exporter": "python",
   "pygments_lexer": "ipython3",
   "version": "3.9.12"
  }
 },
 "nbformat": 4,
 "nbformat_minor": 5
}
